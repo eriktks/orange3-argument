{
 "cells": [
  {
   "cell_type": "markdown",
   "metadata": {},
   "source": [
    "# Example: Review Labeling by Topic\n",
    "\n",
    "In this notebook, we will use a subset of the Amazon Product Review data to demonstrate the usage of this work for labeling arguments. The problem to be addressed here is determining the credibility (reliable/unreliable) of reviews that evaluate a specific aspect of the product (i.e. size of shoes) and being able to provide reasoning for the results. The dataset can be found [here](https://github.com/EyeofBeholder-NLeSC/orange3-argument/blob/doc/examples/example_dataset.json)."
   ]
  },
  {
   "cell_type": "code",
   "execution_count": 1,
   "metadata": {
    "jupyter": {
     "source_hidden": true
    }
   },
   "outputs": [],
   "source": [
    "import networkx as nx\n",
    "import matplotlib.pyplot as plt\n",
    "from IPython.display import display, HTML\n",
    "from orangearg.argument.miner import reader, chunker, processor, miner\n",
    "\n",
    "fpath = \"./example_dataset.json\""
   ]
  },
  {
   "cell_type": "markdown",
   "metadata": {},
   "source": [
    "## 1. Read data"
   ]
  },
  {
   "cell_type": "code",
   "execution_count": 2,
   "metadata": {
    "jupyter": {
     "source_hidden": true
    }
   },
   "outputs": [],
   "source": [
    "df_arguments = reader.read_json_file(fpath=fpath)\n",
    "df_arguments = df_arguments.dropna().reset_index(drop=True)  # remove rows with na"
   ]
  },
  {
   "cell_type": "markdown",
   "metadata": {},
   "source": [
    "The results of reading the data file are as follows. It can be seen that this dataset contains two aspects of information, namely the text of the reviews (`reviewText`) and the rating evaluations provided by the purchasers (`overall`, ranging from 1 to 5 stars)."
   ]
  },
  {
   "cell_type": "code",
   "execution_count": 3,
   "metadata": {},
   "outputs": [
    {
     "data": {
      "text/html": [
       "<div>\n",
       "<style scoped>\n",
       "    .dataframe tbody tr th:only-of-type {\n",
       "        vertical-align: middle;\n",
       "    }\n",
       "\n",
       "    .dataframe tbody tr th {\n",
       "        vertical-align: top;\n",
       "    }\n",
       "\n",
       "    .dataframe thead th {\n",
       "        text-align: right;\n",
       "    }\n",
       "</style>\n",
       "<table border=\"1\" class=\"dataframe\">\n",
       "  <thead>\n",
       "    <tr style=\"text-align: right;\">\n",
       "      <th></th>\n",
       "      <th>reviewText</th>\n",
       "      <th>overall</th>\n",
       "    </tr>\n",
       "  </thead>\n",
       "  <tbody>\n",
       "    <tr>\n",
       "      <th>0</th>\n",
       "      <td>I always get a half size up in my tennis shoes...</td>\n",
       "      <td>3</td>\n",
       "    </tr>\n",
       "    <tr>\n",
       "      <th>1</th>\n",
       "      <td>Put them on and walked 3 hours with no problem...</td>\n",
       "      <td>5</td>\n",
       "    </tr>\n",
       "    <tr>\n",
       "      <th>2</th>\n",
       "      <td>excelente</td>\n",
       "      <td>5</td>\n",
       "    </tr>\n",
       "    <tr>\n",
       "      <th>3</th>\n",
       "      <td>The shoes fit well in the arch area. They are ...</td>\n",
       "      <td>4</td>\n",
       "    </tr>\n",
       "    <tr>\n",
       "      <th>4</th>\n",
       "      <td>Tried them on in a store before buying online ...</td>\n",
       "      <td>5</td>\n",
       "    </tr>\n",
       "    <tr>\n",
       "      <th>...</th>\n",
       "      <td>...</td>\n",
       "      <td>...</td>\n",
       "    </tr>\n",
       "    <tr>\n",
       "      <th>365</th>\n",
       "      <td>Favorite Nike shoe ever! The flex sole is exce...</td>\n",
       "      <td>5</td>\n",
       "    </tr>\n",
       "    <tr>\n",
       "      <th>366</th>\n",
       "      <td>I wear these everyday to work, the gym, etc.</td>\n",
       "      <td>5</td>\n",
       "    </tr>\n",
       "    <tr>\n",
       "      <th>367</th>\n",
       "      <td>Love these shoes! Great fit, very light weight.</td>\n",
       "      <td>5</td>\n",
       "    </tr>\n",
       "    <tr>\n",
       "      <th>368</th>\n",
       "      <td>Super comfortable and fit my small feet perfec...</td>\n",
       "      <td>5</td>\n",
       "    </tr>\n",
       "    <tr>\n",
       "      <th>369</th>\n",
       "      <td>Love these shoes!</td>\n",
       "      <td>5</td>\n",
       "    </tr>\n",
       "  </tbody>\n",
       "</table>\n",
       "<p>370 rows × 2 columns</p>\n",
       "</div>"
      ],
      "text/plain": [
       "                                            reviewText  overall\n",
       "0    I always get a half size up in my tennis shoes...        3\n",
       "1    Put them on and walked 3 hours with no problem...        5\n",
       "2                                            excelente        5\n",
       "3    The shoes fit well in the arch area. They are ...        4\n",
       "4    Tried them on in a store before buying online ...        5\n",
       "..                                                 ...      ...\n",
       "365  Favorite Nike shoe ever! The flex sole is exce...        5\n",
       "366       I wear these everyday to work, the gym, etc.        5\n",
       "367    Love these shoes! Great fit, very light weight.        5\n",
       "368  Super comfortable and fit my small feet perfec...        5\n",
       "369                                  Love these shoes!        5\n",
       "\n",
       "[370 rows x 2 columns]"
      ]
     },
     "execution_count": 3,
     "metadata": {},
     "output_type": "execute_result"
    }
   ],
   "source": [
    "df_arguments"
   ]
  },
  {
   "cell_type": "markdown",
   "metadata": {},
   "source": [
    "## 2. Language analysis\n",
    "\n",
    "The language analysis divides reviews in sequences of words which express complete meanings. These sequences are called chunks. The reason for doing this is to identify from which different perspectives reviews provide their evaluations, in preparation for the subsequent review labeling process. "
   ]
  },
  {
   "cell_type": "code",
   "execution_count": 4,
   "metadata": {
    "jupyter": {
     "source_hidden": true
    }
   },
   "outputs": [],
   "source": [
    "def split_reviews_into_chunks(arguments):\n",
    "    return chunker.get_chunk(docs=arguments)"
   ]
  },
  {
   "cell_type": "code",
   "execution_count": 5,
   "metadata": {
    "jupyter": {
     "source_hidden": true
    }
   },
   "outputs": [],
   "source": [
    "def compute_polarity_score_of_chunks(chunks):\n",
    "    return chunker.get_chunk_polarity_score(chunks=chunks)"
   ]
  },
  {
   "cell_type": "code",
   "execution_count": 6,
   "metadata": {
    "jupyter": {
     "source_hidden": true
    }
   },
   "outputs": [],
   "source": [
    "def compute_topics_of_chunks(chunks):\n",
    "    return chunker.get_chunk_topic(chunks=chunks)"
   ]
  },
  {
   "cell_type": "code",
   "execution_count": 7,
   "metadata": {
    "jupyter": {
     "source_hidden": true
    }
   },
   "outputs": [],
   "source": [
    "def compute_importance_of_chunks(chunk_arg_ids, chunk_embeds):\n",
    "    return chunker.get_chunk_rank(arg_ids=chunk_arg_ids, embeds=chunk_embeds)"
   ]
  },
  {
   "cell_type": "code",
   "execution_count": 8,
   "metadata": {
    "jupyter": {
     "source_hidden": true
    }
   },
   "outputs": [],
   "source": [
    "def perform_language_analysis(df_arguments):\n",
    "    arguments = df_arguments[\"reviewText\"]\n",
    "    arg_scores = df_arguments[\"overall\"]\n",
    "    chunk_arg_ids, chunks = split_reviews_into_chunks(arguments)\n",
    "    chunk_p_scores = compute_polarity_score_of_chunks(chunks)\n",
    "    chunk_topics, chunk_embeds, df_topics = compute_topics_of_chunks(chunks)\n",
    "    chunk_ranks = compute_importance_of_chunks(chunk_arg_ids, chunk_embeds)\n",
    "    return chunker.get_chunk_table(\n",
    "               arg_ids=chunk_arg_ids, \n",
    "               chunks=chunks, \n",
    "               p_scores=chunk_p_scores, \n",
    "               topics=chunk_topics, \n",
    "               ranks=chunk_ranks\n",
    "            ), df_topics"
   ]
  },
  {
   "cell_type": "code",
   "execution_count": 9,
   "metadata": {},
   "outputs": [
    {
     "name": "stderr",
     "output_type": "stream",
     "text": [
      "2024-01-05 18:20:22,977 - BERTopic - WARNING: Using a custom list of topic assignments may lead to errors if topic reduction techniques are used afterwards. Make sure that manually assigning topics is the last step in the pipeline.Note that topic embeddings will also be created through weightedc-TF-IDF embeddings instead of centroid embeddings.\n"
     ]
    }
   ],
   "source": [
    "df_chunks, df_topics = perform_language_analysis(df_arguments)"
   ]
  },
  {
   "cell_type": "markdown",
   "metadata": {},
   "source": [
    "Some explanation of `df_chunks`:\n",
    "\n",
    "* `argument_id`: the index of the argument the chunk coming from.\n",
    "* `polarity_score`: the sentiment polarity score of a chunk, in range of [-1, 1], where 0 signifies neutrality, positive values indicate positivity, and negative values denote negativity. \n",
    "* `topic`: the index of a topic in the `df_topics` table below.\n",
    "* `rank`: importance of a chunk within the argument it comes from, in range of [0, 1]. This is computed as the pagerank of chunks based on the similarity network of chunks. Therefore, the sum of ranks from chunks belonging to the same argument is equal to 1."
   ]
  },
  {
   "cell_type": "code",
   "execution_count": 10,
   "metadata": {},
   "outputs": [
    {
     "data": {
      "text/html": [
       "<div>\n",
       "<style scoped>\n",
       "    .dataframe tbody tr th:only-of-type {\n",
       "        vertical-align: middle;\n",
       "    }\n",
       "\n",
       "    .dataframe tbody tr th {\n",
       "        vertical-align: top;\n",
       "    }\n",
       "\n",
       "    .dataframe thead th {\n",
       "        text-align: right;\n",
       "    }\n",
       "</style>\n",
       "<table border=\"1\" class=\"dataframe\">\n",
       "  <thead>\n",
       "    <tr style=\"text-align: right;\">\n",
       "      <th></th>\n",
       "      <th>argument_id</th>\n",
       "      <th>chunk</th>\n",
       "      <th>polarity_score</th>\n",
       "      <th>topic</th>\n",
       "      <th>rank</th>\n",
       "    </tr>\n",
       "  </thead>\n",
       "  <tbody>\n",
       "    <tr>\n",
       "      <th>0</th>\n",
       "      <td>0</td>\n",
       "      <td>I always get a half size up in my tennis shoes .</td>\n",
       "      <td>-0.166667</td>\n",
       "      <td>3</td>\n",
       "      <td>0.500000</td>\n",
       "    </tr>\n",
       "    <tr>\n",
       "      <th>1</th>\n",
       "      <td>0</td>\n",
       "      <td>For some reason these feel to big in the heel ...</td>\n",
       "      <td>-0.050000</td>\n",
       "      <td>5</td>\n",
       "      <td>0.500000</td>\n",
       "    </tr>\n",
       "    <tr>\n",
       "      <th>2</th>\n",
       "      <td>1</td>\n",
       "      <td>walked 3 hours with no problem</td>\n",
       "      <td>0.000000</td>\n",
       "      <td>6</td>\n",
       "      <td>0.250485</td>\n",
       "    </tr>\n",
       "    <tr>\n",
       "      <th>3</th>\n",
       "      <td>1</td>\n",
       "      <td>Put them on and !</td>\n",
       "      <td>0.000000</td>\n",
       "      <td>18</td>\n",
       "      <td>0.254836</td>\n",
       "    </tr>\n",
       "    <tr>\n",
       "      <th>4</th>\n",
       "      <td>1</td>\n",
       "      <td>Love them !</td>\n",
       "      <td>0.625000</td>\n",
       "      <td>2</td>\n",
       "      <td>0.241032</td>\n",
       "    </tr>\n",
       "  </tbody>\n",
       "</table>\n",
       "</div>"
      ],
      "text/plain": [
       "   argument_id                                              chunk  \\\n",
       "0            0   I always get a half size up in my tennis shoes .   \n",
       "1            0  For some reason these feel to big in the heel ...   \n",
       "2            1                     walked 3 hours with no problem   \n",
       "3            1                                  Put them on and !   \n",
       "4            1                                        Love them !   \n",
       "\n",
       "   polarity_score  topic      rank  \n",
       "0       -0.166667      3  0.500000  \n",
       "1       -0.050000      5  0.500000  \n",
       "2        0.000000      6  0.250485  \n",
       "3        0.000000     18  0.254836  \n",
       "4        0.625000      2  0.241032  "
      ]
     },
     "execution_count": 10,
     "metadata": {},
     "output_type": "execute_result"
    }
   ],
   "source": [
    "df_chunks.head()"
   ]
  },
  {
   "cell_type": "markdown",
   "metadata": {},
   "source": [
    "Explanation of `df_topics`:\n",
    "\n",
    "* `topic`: the index of a topic\n",
    "* `count`: the number of chunks in a topic\n",
    "* `keywords`: the top keywords of a topic\n",
    "* `name`: a short name of the topic"
   ]
  },
  {
   "cell_type": "code",
   "execution_count": 11,
   "metadata": {},
   "outputs": [
    {
     "data": {
      "text/html": [
       "<div>\n",
       "<style scoped>\n",
       "    .dataframe tbody tr th:only-of-type {\n",
       "        vertical-align: middle;\n",
       "    }\n",
       "\n",
       "    .dataframe tbody tr th {\n",
       "        vertical-align: top;\n",
       "    }\n",
       "\n",
       "    .dataframe thead th {\n",
       "        text-align: right;\n",
       "    }\n",
       "</style>\n",
       "<table border=\"1\" class=\"dataframe\">\n",
       "  <thead>\n",
       "    <tr style=\"text-align: right;\">\n",
       "      <th></th>\n",
       "      <th>topic</th>\n",
       "      <th>count</th>\n",
       "      <th>name</th>\n",
       "      <th>keywords</th>\n",
       "    </tr>\n",
       "  </thead>\n",
       "  <tbody>\n",
       "    <tr>\n",
       "      <th>0</th>\n",
       "      <td>0</td>\n",
       "      <td>96</td>\n",
       "      <td>0_fit_perfect_expected_true</td>\n",
       "      <td>(fit, perfect, expected, true, perfectly, fits...</td>\n",
       "    </tr>\n",
       "    <tr>\n",
       "      <th>1</th>\n",
       "      <td>1</td>\n",
       "      <td>151</td>\n",
       "      <td>1_shoes_for_the_shoe</td>\n",
       "      <td>(shoes, for, the, shoe, these, comfortable, ar...</td>\n",
       "    </tr>\n",
       "    <tr>\n",
       "      <th>2</th>\n",
       "      <td>2</td>\n",
       "      <td>77</td>\n",
       "      <td>2_love_them_they_are</td>\n",
       "      <td>(love, them, they, are, these, cute, really, p...</td>\n",
       "    </tr>\n",
       "    <tr>\n",
       "      <th>3</th>\n",
       "      <td>3</td>\n",
       "      <td>61</td>\n",
       "      <td>3_size_ordered_half_order</td>\n",
       "      <td>(size, ordered, half, order, wear, always, an,...</td>\n",
       "    </tr>\n",
       "    <tr>\n",
       "      <th>4</th>\n",
       "      <td>4</td>\n",
       "      <td>64</td>\n",
       "      <td>4_comfortable_they_are_light</td>\n",
       "      <td>(comfortable, they, are, light, and, very, com...</td>\n",
       "    </tr>\n",
       "  </tbody>\n",
       "</table>\n",
       "</div>"
      ],
      "text/plain": [
       "   topic  count                          name  \\\n",
       "0      0     96   0_fit_perfect_expected_true   \n",
       "1      1    151          1_shoes_for_the_shoe   \n",
       "2      2     77          2_love_them_they_are   \n",
       "3      3     61     3_size_ordered_half_order   \n",
       "4      4     64  4_comfortable_they_are_light   \n",
       "\n",
       "                                            keywords  \n",
       "0  (fit, perfect, expected, true, perfectly, fits...  \n",
       "1  (shoes, for, the, shoe, these, comfortable, ar...  \n",
       "2  (love, them, they, are, these, cute, really, p...  \n",
       "3  (size, ordered, half, order, wear, always, an,...  \n",
       "4  (comfortable, they, are, light, and, very, com...  "
      ]
     },
     "execution_count": 11,
     "metadata": {},
     "output_type": "execute_result"
    }
   ],
   "source": [
    "df_topics.head()"
   ]
  },
  {
   "cell_type": "markdown",
   "metadata": {},
   "source": [
    "## 3. Merge related chunks\n",
    "\n",
    "By merging the chunks back into reviews and performing the corresponding computations, we will obtain relevant information at the review level, including the topics covered in each review, the sentiment of the review, and its consistency with the overall score. This information will be further used for labeling reviews under different topics."
   ]
  },
  {
   "cell_type": "code",
   "execution_count": 12,
   "metadata": {
    "jupyter": {
     "source_hidden": true
    }
   },
   "outputs": [],
   "source": [
    "def compute_topics_of_arguments(chunk_arg_ids, chunk_topics):\n",
    "    return processor.get_argument_topics(arg_ids=chunk_arg_ids, topics=chunk_topics)"
   ]
  },
  {
   "cell_type": "code",
   "execution_count": 13,
   "metadata": {
    "jupyter": {
     "source_hidden": true
    }
   },
   "outputs": [],
   "source": [
    "def compute_sentiment_of_arguments(chunk_arg_ids, chunk_ranks, chunk_p_scores):\n",
    "    return processor.get_argument_sentiment(arg_ids=chunk_arg_ids, ranks=chunk_ranks, p_scores=chunk_p_scores)"
   ]
  },
  {
   "cell_type": "code",
   "execution_count": 14,
   "metadata": {
    "jupyter": {
     "source_hidden": true
    }
   },
   "outputs": [],
   "source": [
    "def compute_the_coherence_between_the_sentiments_and_the_overall_of_arguments(arg_scores, arg_sentiments):\n",
    "    return processor.get_argument_coherence(scores=arg_scores, sentiments=arg_sentiments)"
   ]
  },
  {
   "cell_type": "code",
   "execution_count": 15,
   "metadata": {
    "jupyter": {
     "source_hidden": true
    }
   },
   "outputs": [],
   "source": [
    "COHERENCE_SCORE_BINS = [ 0.96, 0.88, 0.8, 0.7, 0.0 ]\n",
    "\n",
    "def bin_coherence_scores(arg_coherences, coherence_score_bins=COHERENCE_SCORE_BINS):\n",
    "    for index in range(0, len(arg_coherences)):\n",
    "        for threshold in coherence_score_bins:\n",
    "            if arg_coherences[index] >= threshold:\n",
    "                arg_coherences[index] = threshold\n",
    "                break\n",
    "    return arg_coherences"
   ]
  },
  {
   "cell_type": "code",
   "execution_count": 16,
   "metadata": {},
   "outputs": [],
   "source": [
    "def merge_related_chunks(df_chunks, df_arguments):\n",
    "    arg_scores = df_arguments[\"overall\"]\n",
    "    arg_topics = compute_topics_of_arguments(df_chunks[\"argument_id\"], df_chunks[\"topic\"])\n",
    "    arg_sentiments = compute_sentiment_of_arguments(df_chunks[\"argument_id\"], df_chunks[\"rank\"], df_chunks[\"polarity_score\"])\n",
    "    arg_coherences = compute_the_coherence_between_the_sentiments_and_the_overall_of_arguments(arg_scores, arg_sentiments)\n",
    "    arg_coherences = bin_coherence_scores(arg_coherences)\n",
    "    return processor.update_argument_table(\n",
    "               df_arguments=df_arguments, \n",
    "               topics=arg_topics, \n",
    "               sentiments=arg_sentiments, \n",
    "               coherences=arg_coherences\n",
    "           )"
   ]
  },
  {
   "cell_type": "markdown",
   "metadata": {},
   "source": [
    "Some columns are added to the original `df_arguments` dataframe, which are:\n",
    "\n",
    "* `topics`: the topics that an argument has mentioned.\n",
    "\n",
    "* `sentiment`: the sentiment score of an argument, in range of [0, 1], the higher the more positive.\n",
    "\n",
    "* `coherence`: the coherence between the `sentiment` and `overall`, in range of [0, 1], the higher the more coherent."
   ]
  },
  {
   "cell_type": "code",
   "execution_count": 17,
   "metadata": {},
   "outputs": [
    {
     "data": {
      "text/html": [
       "<div>\n",
       "<style scoped>\n",
       "    .dataframe tbody tr th:only-of-type {\n",
       "        vertical-align: middle;\n",
       "    }\n",
       "\n",
       "    .dataframe tbody tr th {\n",
       "        vertical-align: top;\n",
       "    }\n",
       "\n",
       "    .dataframe thead th {\n",
       "        text-align: right;\n",
       "    }\n",
       "</style>\n",
       "<table border=\"1\" class=\"dataframe\">\n",
       "  <thead>\n",
       "    <tr style=\"text-align: right;\">\n",
       "      <th></th>\n",
       "      <th>reviewText</th>\n",
       "      <th>overall</th>\n",
       "      <th>topics</th>\n",
       "      <th>sentiment</th>\n",
       "      <th>coherence</th>\n",
       "    </tr>\n",
       "  </thead>\n",
       "  <tbody>\n",
       "    <tr>\n",
       "      <th>0</th>\n",
       "      <td>I always get a half size up in my tennis shoes...</td>\n",
       "      <td>3</td>\n",
       "      <td>(3, 5)</td>\n",
       "      <td>0.445833</td>\n",
       "      <td>0.96</td>\n",
       "    </tr>\n",
       "    <tr>\n",
       "      <th>1</th>\n",
       "      <td>Put them on and walked 3 hours with no problem...</td>\n",
       "      <td>5</td>\n",
       "      <td>(6, 18, 2, 10)</td>\n",
       "      <td>0.626052</td>\n",
       "      <td>0.70</td>\n",
       "    </tr>\n",
       "    <tr>\n",
       "      <th>2</th>\n",
       "      <td>excelente</td>\n",
       "      <td>5</td>\n",
       "      <td>(7,)</td>\n",
       "      <td>0.500000</td>\n",
       "      <td>0.00</td>\n",
       "    </tr>\n",
       "    <tr>\n",
       "      <th>3</th>\n",
       "      <td>The shoes fit well in the arch area. They are ...</td>\n",
       "      <td>4</td>\n",
       "      <td>(1, 5, 6, 24)</td>\n",
       "      <td>0.525655</td>\n",
       "      <td>0.88</td>\n",
       "    </tr>\n",
       "    <tr>\n",
       "      <th>4</th>\n",
       "      <td>Tried them on in a store before buying online ...</td>\n",
       "      <td>5</td>\n",
       "      <td>(0, 1, 4, 1, 7)</td>\n",
       "      <td>0.712579</td>\n",
       "      <td>0.80</td>\n",
       "    </tr>\n",
       "  </tbody>\n",
       "</table>\n",
       "</div>"
      ],
      "text/plain": [
       "                                          reviewText  overall  \\\n",
       "0  I always get a half size up in my tennis shoes...        3   \n",
       "1  Put them on and walked 3 hours with no problem...        5   \n",
       "2                                          excelente        5   \n",
       "3  The shoes fit well in the arch area. They are ...        4   \n",
       "4  Tried them on in a store before buying online ...        5   \n",
       "\n",
       "            topics  sentiment  coherence  \n",
       "0           (3, 5)   0.445833       0.96  \n",
       "1   (6, 18, 2, 10)   0.626052       0.70  \n",
       "2             (7,)   0.500000       0.00  \n",
       "3    (1, 5, 6, 24)   0.525655       0.88  \n",
       "4  (0, 1, 4, 1, 7)   0.712579       0.80  "
      ]
     },
     "execution_count": 17,
     "metadata": {},
     "output_type": "execute_result"
    }
   ],
   "source": [
    "df_arguments_processed = merge_related_chunks(df_chunks, df_arguments)\n",
    "df_arguments_processed.head()"
   ]
  },
  {
   "cell_type": "markdown",
   "metadata": {},
   "source": [
    "## 4. Add review labels\n",
    "\n",
    "In this step, by looking at reviews under a specific topic, an attacking network of reviews are built, where nodes are reviews and edges are the attacks in between. Reviews are labeled based on that. \n",
    "\n",
    "These are the rules of generating the network:\n",
    "\n",
    "* Attacking edges exist only between reviews with different `overall` score (between positive (4,5) and negatative (1,2))\n",
    "* Attacking edges start from a review with higher coherence to a review with a lower coherence\n",
    "* Weight of edges are computed as difference of coherence of the vertices\n",
    "* A node is labeled as `supportive` (meaning reliable in our case),\n",
    "    * if no other nodes attack it, or\n",
    "    * if all attackers of this node are attacked by some other nodes\n",
    "* A node is labeled as `defeated` (meaning unreliable in our case), if it is not `supportive`  "
   ]
  },
  {
   "cell_type": "code",
   "execution_count": 39,
   "metadata": {
    "jupyter": {
     "source_hidden": true
    }
   },
   "outputs": [],
   "source": [
    "def select_interesting_topic(df_topics, show_data=True):\n",
    "    interesting_topic = df_topics.iloc[-1][\"topic\"] - 6\n",
    "    if show_data:\n",
    "        print(f\"The chosen topic is topic nr. {interesting_topic}:\")\n",
    "        display(HTML(df_topics[df_topics[\"topic\"] == interesting_topic].to_html()))\n",
    "    return interesting_topic"
   ]
  },
  {
   "cell_type": "code",
   "execution_count": 19,
   "metadata": {
    "jupyter": {
     "source_hidden": true
    }
   },
   "outputs": [],
   "source": [
    "def select_arguments_for_topic(topic):\n",
    "    arg_selection = miner.select_by_topic(data=df_arguments_processed, topic=topic)\n",
    "    arg_selection = arg_selection.rename(columns={\n",
    "        \"reviewText\": \"argument\", \n",
    "        \"overall\": \"score\"\n",
    "    })  # rename columns for the following steps\n",
    "    return arg_selection"
   ]
  },
  {
   "cell_type": "code",
   "execution_count": 20,
   "metadata": {
    "jupyter": {
     "source_hidden": true
    }
   },
   "outputs": [],
   "source": [
    "def make_edges_for_attacking_network(arg_selection):\n",
    "    edges = miner.get_edges(data=arg_selection)\n",
    "    weights = miner.get_edge_weights(data=arg_selection, edges=edges)\n",
    "    df_edges = miner.get_edge_table(edges=edges, weights=weights)\n",
    "    df_edges = df_edges[df_edges[\"weight\"] != 0]\n",
    "    return df_edges"
   ]
  },
  {
   "cell_type": "code",
   "execution_count": 21,
   "metadata": {
    "jupyter": {
     "source_hidden": true
    }
   },
   "outputs": [],
   "source": [
    "NEUTRAL_SCORE = 3\n",
    "\n",
    "def remove_edges_from_to_neutrals(df_edges, arg_selection):\n",
    "    has_no_neutral_node = [ not (arg_selection.loc[row[\"source\"]][\"score\"] == NEUTRAL_SCORE or \n",
    "                                 arg_selection.loc[row[\"target\"]][\"score\"] == NEUTRAL_SCORE) \n",
    "                         for index, row in df_edges.iterrows() ]\n",
    "    return df_edges[has_no_neutral_node]"
   ]
  },
  {
   "cell_type": "code",
   "execution_count": 22,
   "metadata": {
    "jupyter": {
     "source_hidden": true
    }
   },
   "outputs": [],
   "source": [
    "def remove_edges_between_agreers(df_edges, arg_selection):\n",
    "    non_agreers = [ abs(arg_selection.loc[row[\"source\"]][\"score\"] - arg_selection.loc[row[\"target\"]][\"score\"]) > 1\n",
    "                    for index, row in df_edges.iterrows() ]\n",
    "    return df_edges[non_agreers]"
   ]
  },
  {
   "cell_type": "code",
   "execution_count": 23,
   "metadata": {
    "jupyter": {
     "source_hidden": true
    }
   },
   "outputs": [],
   "source": [
    "def add_review_labels(arg_selection, df_edges):\n",
    "    if len(df_edges) == 0:\n",
    "        arg_selection[\"labels\"] = len(arg_selection) * [\"supportive\"]\n",
    "    else:\n",
    "        labels = miner.get_node_labels(\n",
    "            indices=arg_selection.index.tolist(), \n",
    "            sources=df_edges[\"source\"].tolist(), \n",
    "            targets=df_edges[\"target\"].tolist()\n",
    "        )\n",
    "        arg_selection[\"labels\"] = labels #[0:len(arg_selection)]\n",
    "    return arg_selection"
   ]
  },
  {
   "cell_type": "code",
   "execution_count": 24,
   "metadata": {
    "jupyter": {
     "source_hidden": true
    }
   },
   "outputs": [],
   "source": [
    "def analyze_a_topic(df_topics, topic=-1, show_data=True):\n",
    "    if topic < 0:\n",
    "        topic = select_interesting_topic(df_topics, show_data)\n",
    "    arg_selection = select_arguments_for_topic(topic)\n",
    "    df_edges = make_edges_for_attacking_network(arg_selection)\n",
    "    df_edges = remove_edges_from_to_neutrals(df_edges, arg_selection)\n",
    "    df_edges = remove_edges_between_agreers(df_edges, arg_selection)\n",
    "    arg_selection = add_review_labels(arg_selection, df_edges)\n",
    "    if show_data:\n",
    "        display(HTML(arg_selection.sort_values([\"coherence\"], ascending=False).to_html()))\n",
    "    return arg_selection, df_edges"
   ]
  },
  {
   "cell_type": "code",
   "execution_count": 25,
   "metadata": {},
   "outputs": [
    {
     "name": "stdout",
     "output_type": "stream",
     "text": [
      "The chosen topic is topic nr. 23:\n"
     ]
    },
    {
     "data": {
      "text/html": [
       "<table border=\"1\" class=\"dataframe\">\n",
       "  <thead>\n",
       "    <tr style=\"text-align: right;\">\n",
       "      <th></th>\n",
       "      <th>topic</th>\n",
       "      <th>count</th>\n",
       "      <th>name</th>\n",
       "      <th>keywords</th>\n",
       "    </tr>\n",
       "  </thead>\n",
       "  <tbody>\n",
       "    <tr>\n",
       "      <th>23</th>\n",
       "      <td>23</td>\n",
       "      <td>35</td>\n",
       "      <td>23_pair_second_this_two</td>\n",
       "      <td>(pair, second, this, two, loved, is, another, of, have, my)</td>\n",
       "    </tr>\n",
       "  </tbody>\n",
       "</table>"
      ],
      "text/plain": [
       "<IPython.core.display.HTML object>"
      ]
     },
     "metadata": {},
     "output_type": "display_data"
    },
    {
     "data": {
      "text/html": [
       "<table border=\"1\" class=\"dataframe\">\n",
       "  <thead>\n",
       "    <tr style=\"text-align: right;\">\n",
       "      <th></th>\n",
       "      <th>argument</th>\n",
       "      <th>score</th>\n",
       "      <th>topics</th>\n",
       "      <th>sentiment</th>\n",
       "      <th>coherence</th>\n",
       "      <th>argument_id</th>\n",
       "      <th>labels</th>\n",
       "    </tr>\n",
       "  </thead>\n",
       "  <tbody>\n",
       "    <tr>\n",
       "      <th>22</th>\n",
       "      <td>i bought a pair from DSW for 50$ and they are very comfortable but i bought a size 6.5 when I normally where a size 7.  and even the 6.5 feels a little roomy.  I have wide flat feet btw.  im not sure if I will keep them even though i love their look and comfort.  I've been having feet problems while taking a gym class and I think they won't give me enough support when running.  they're great for wearing at home or gym and doing exercises in one place- extremely light weight and flexible, but i don't know if they'll last long if you use them everywhere else.  :(  i really like them but i cant just buy 2 different shoes.\\nalso, i really like the strings inside the lining on the side of the shoes to adjust and make the shoe fit snug. it makes me feel secure :D</td>\n",
       "      <td>4</td>\n",
       "      <td>(4, 3, 23, 5, 4, 9, 6, 9, 9, 13, 2, 16, 5, 8)</td>\n",
       "      <td>0.558687</td>\n",
       "      <td>0.88</td>\n",
       "      <td>278</td>\n",
       "      <td>supportive</td>\n",
       "    </tr>\n",
       "    <tr>\n",
       "      <th>24</th>\n",
       "      <td>After my purchased I found out they are overpriced. They feel good but I will not recommended if you need Wide fit.</td>\n",
       "      <td>3</td>\n",
       "      <td>(23, 4, 5)</td>\n",
       "      <td>0.642496</td>\n",
       "      <td>0.88</td>\n",
       "      <td>287</td>\n",
       "      <td>supportive</td>\n",
       "    </tr>\n",
       "    <tr>\n",
       "      <th>19</th>\n",
       "      <td>Cute and comfy. Sleek design. My only complaint is the fly wire loosens up and my shoe sometimes slips off my heels during heavy sled runs. I have two pairs of this style.</td>\n",
       "      <td>4</td>\n",
       "      <td>(17, 11, 10, 1, 23)</td>\n",
       "      <td>0.557536</td>\n",
       "      <td>0.88</td>\n",
       "      <td>224</td>\n",
       "      <td>supportive</td>\n",
       "    </tr>\n",
       "    <tr>\n",
       "      <th>10</th>\n",
       "      <td>I bought these for gym training - weight class and dance class (body jam, Zumba) - and really wanted to like them, since I loved the color and the light weight feel. But when I worked out high impact, my toes tingled, went numb and cramped because the toe bed is very narrow. Also, there wasn't enough cushion for me. When doing lunges, the ball of my feet hurt. Can't return them because I wore them several times. These might be fine for someone with a narrow foot.</td>\n",
       "      <td>2</td>\n",
       "      <td>(23, 9, 6, 6, 5, 6, 25, 5)</td>\n",
       "      <td>0.516580</td>\n",
       "      <td>0.80</td>\n",
       "      <td>83</td>\n",
       "      <td>defeated</td>\n",
       "    </tr>\n",
       "    <tr>\n",
       "      <th>25</th>\n",
       "      <td>These shoes are great.  This is the second pair that I have purchased and I love them.</td>\n",
       "      <td>5</td>\n",
       "      <td>(15, 2, 23)</td>\n",
       "      <td>0.715642</td>\n",
       "      <td>0.80</td>\n",
       "      <td>292</td>\n",
       "      <td>supportive</td>\n",
       "    </tr>\n",
       "    <tr>\n",
       "      <th>15</th>\n",
       "      <td>My second pair, love the fit, light weight and great support.</td>\n",
       "      <td>5</td>\n",
       "      <td>(23,)</td>\n",
       "      <td>0.710000</td>\n",
       "      <td>0.80</td>\n",
       "      <td>162</td>\n",
       "      <td>supportive</td>\n",
       "    </tr>\n",
       "    <tr>\n",
       "      <th>11</th>\n",
       "      <td>Absolutely love these shoes and color!! They are perfect for running! I run roughly 4 miles 3x per week. This is my second or 3rd pair of this exact style. Fit is perfect!</td>\n",
       "      <td>5</td>\n",
       "      <td>(21, 9, 14, 23, 0)</td>\n",
       "      <td>0.746146</td>\n",
       "      <td>0.80</td>\n",
       "      <td>99</td>\n",
       "      <td>supportive</td>\n",
       "    </tr>\n",
       "    <tr>\n",
       "      <th>6</th>\n",
       "      <td>Very comfortable shoes. This is my second pair of this style of shoe because I loved them that much.</td>\n",
       "      <td>5</td>\n",
       "      <td>(1, 23)</td>\n",
       "      <td>0.705000</td>\n",
       "      <td>0.80</td>\n",
       "      <td>41</td>\n",
       "      <td>supportive</td>\n",
       "    </tr>\n",
       "    <tr>\n",
       "      <th>4</th>\n",
       "      <td>Love these shoes!! They are true to size and very comfortable!! This is my second pair - I wore out the first pair!! Good arch support - I have a high arch!!</td>\n",
       "      <td>5</td>\n",
       "      <td>(21, 0, 23, 22)</td>\n",
       "      <td>0.753187</td>\n",
       "      <td>0.80</td>\n",
       "      <td>24</td>\n",
       "      <td>supportive</td>\n",
       "    </tr>\n",
       "    <tr>\n",
       "      <th>7</th>\n",
       "      <td>Glad I read the reviews and ordered a half size too big. These are light weight. I worked out in them last night and had a great work out. They are very comfortable. I would recommend these to anyone. I am a Beach Body Coach and these are now my new favorite shoes to work out in. I feel like I am walking in slippers when I wear these shoes. They are so comfortable. I LOVE them so much. I never buy myself anything nice and for Christmas got an Amazon gift card and used it to buy myself these sneakers and they are so awesome. I really do love them and have been telling all my friends about them. GET THESE SHOES!</td>\n",
       "      <td>5</td>\n",
       "      <td>(3, 7, 10, 1, 9, 4, 19, 1, 14, 1, 4, 2, 23, 2, 16, 2, 2, 15)</td>\n",
       "      <td>0.647190</td>\n",
       "      <td>0.70</td>\n",
       "      <td>60</td>\n",
       "      <td>supportive</td>\n",
       "    </tr>\n",
       "    <tr>\n",
       "      <th>30</th>\n",
       "      <td>I absolutely LOVE these shoes. These are my absolute favorite. So light and comfortable. These are actually my 2nd pair. I am still wearing my 1st pair after 2 years and they look good still. I am just afraid they are going to disappear and I want a back up pair for when my 1st pair wears out. These have been the best shoes I've owned!</td>\n",
       "      <td>5</td>\n",
       "      <td>(15, 2, 17, 10, 23, 2, 23, 23, 18, 15)</td>\n",
       "      <td>0.636370</td>\n",
       "      <td>0.70</td>\n",
       "      <td>361</td>\n",
       "      <td>supportive</td>\n",
       "    </tr>\n",
       "    <tr>\n",
       "      <th>9</th>\n",
       "      <td>I **loved** these shoes when I got them. I've noticed that the foam inside tends to compress during a workout, though. I'll lace them tightly enough that they're nearly cutting off my circulation. 20 minutes later, I'm sliding out of them while doing sled pushes.</td>\n",
       "      <td>2</td>\n",
       "      <td>(23, 9, 18, 18)</td>\n",
       "      <td>0.549005</td>\n",
       "      <td>0.70</td>\n",
       "      <td>67</td>\n",
       "      <td>defeated</td>\n",
       "    </tr>\n",
       "    <tr>\n",
       "      <th>23</th>\n",
       "      <td>Favorite Nikes ever. I already owned this style and was ready for a new pair so I went with these. Love the color and they fit great.</td>\n",
       "      <td>5</td>\n",
       "      <td>(15, 23, 11, 2, 0, 11)</td>\n",
       "      <td>0.646566</td>\n",
       "      <td>0.70</td>\n",
       "      <td>282</td>\n",
       "      <td>supportive</td>\n",
       "    </tr>\n",
       "    <tr>\n",
       "      <th>29</th>\n",
       "      <td>These are the most comfortable shoes I've used for working out. Extremely light weight and flexible. Loved them so much I purchased two more pair in different colors.</td>\n",
       "      <td>5</td>\n",
       "      <td>(1, 17, 10, 23)</td>\n",
       "      <td>0.650073</td>\n",
       "      <td>0.70</td>\n",
       "      <td>344</td>\n",
       "      <td>supportive</td>\n",
       "    </tr>\n",
       "    <tr>\n",
       "      <th>28</th>\n",
       "      <td>These run large. I wear a 9.5 exactly in every shoe, but these I bought a 9, and the toe area is pretty wide plus plenty long even with socks. Very comfy and very nice looking shoe. I love them but glad I was able to try them on before purchasing.</td>\n",
       "      <td>5</td>\n",
       "      <td>(5, 3, 3, 24, 23, 2)</td>\n",
       "      <td>0.664555</td>\n",
       "      <td>0.70</td>\n",
       "      <td>340</td>\n",
       "      <td>supportive</td>\n",
       "    </tr>\n",
       "    <tr>\n",
       "      <th>27</th>\n",
       "      <td>A-MA-ZING!  I needed a good jogging shoe and these make me feel like \"Forest Gump\".  I felt like I was running on a cloud.  I have narrow feet and these fit perfectly.  I am so happy that I am going to purchase another two pair as back-ups for once it's time to replace them.  Highly recommend to women who like to walk or run and light a light weight, comfortable shoe.</td>\n",
       "      <td>5</td>\n",
       "      <td>(13, 2, 1, 6, 5, 23, 1)</td>\n",
       "      <td>0.631419</td>\n",
       "      <td>0.70</td>\n",
       "      <td>332</td>\n",
       "      <td>supportive</td>\n",
       "    </tr>\n",
       "    <tr>\n",
       "      <th>5</th>\n",
       "      <td>second pair. Comfortable and great for people with bunion issues or previous surgeries.  Sole wears great</td>\n",
       "      <td>5</td>\n",
       "      <td>(23, 13, 4, 1)</td>\n",
       "      <td>0.661492</td>\n",
       "      <td>0.70</td>\n",
       "      <td>27</td>\n",
       "      <td>supportive</td>\n",
       "    </tr>\n",
       "    <tr>\n",
       "      <th>1</th>\n",
       "      <td>In really like these. I wear between a 9-9.5 womens, I got the 9.5 and they fit perfectly. They are light weight but have good support. I will buy another pair.</td>\n",
       "      <td>5</td>\n",
       "      <td>(2, 0, 3, 22, 10, 23)</td>\n",
       "      <td>0.667289</td>\n",
       "      <td>0.70</td>\n",
       "      <td>14</td>\n",
       "      <td>supportive</td>\n",
       "    </tr>\n",
       "    <tr>\n",
       "      <th>17</th>\n",
       "      <td>I love these shoes my second pair of 40 plus $ shoes and they both have certainly out done the $100 K-swiss that I'm looking to return . The shoes are extremely comfortable, all my clients love them, just wish they came in more colors.</td>\n",
       "      <td>5</td>\n",
       "      <td>(10, 23, 1)</td>\n",
       "      <td>0.655373</td>\n",
       "      <td>0.70</td>\n",
       "      <td>183</td>\n",
       "      <td>supportive</td>\n",
       "    </tr>\n",
       "    <tr>\n",
       "      <th>26</th>\n",
       "      <td>BEST. SHOES. EVER.  I bought two pairs in different colors- black n' white and the pink and white...  They have AWESOME support for whatever you use them for.. I have one for work and the other for training/running/etc in...</td>\n",
       "      <td>5</td>\n",
       "      <td>(13, 1, 19, 23, 22, 9)</td>\n",
       "      <td>0.649996</td>\n",
       "      <td>0.70</td>\n",
       "      <td>317</td>\n",
       "      <td>supportive</td>\n",
       "    </tr>\n",
       "    <tr>\n",
       "      <th>3</th>\n",
       "      <td>Great shoe. I've had Nike's before and have always been pleased with the comfort, performance, and quality. Though I will say this was the first time I ordered a pair online without trying them on first, so I was nervous. But this turned out to be a great choice. Breathable, lightweight but sturdy, and comfortable during all my workouts. The built-in arch support is great and I've had no discomfort after 2 weeks of use. As far as the sole thickness and cushioning goes, I would consider these a 'medium' build (not thin, not overly thick) so if you're into heavy running outdoors then take that into consideration. Everyone is different in their preference for cushioning, but I think for light runs on a treadmill they would be sufficient. Love these, highly recommend!</td>\n",
       "      <td>5</td>\n",
       "      <td>(24, 7, 16, 23, 7, 4, 8, 6, 22, 1, 9, 4, 19)</td>\n",
       "      <td>0.663316</td>\n",
       "      <td>0.70</td>\n",
       "      <td>20</td>\n",
       "      <td>supportive</td>\n",
       "    </tr>\n",
       "    <tr>\n",
       "      <th>2</th>\n",
       "      <td>The color pattern and fit is what I liked the most what I liked the least is that they are not easy to clean and stains do not come out very easy or at all</td>\n",
       "      <td>5</td>\n",
       "      <td>(23,)</td>\n",
       "      <td>0.657083</td>\n",
       "      <td>0.70</td>\n",
       "      <td>18</td>\n",
       "      <td>supportive</td>\n",
       "    </tr>\n",
       "    <tr>\n",
       "      <th>16</th>\n",
       "      <td>I love these and have them in a light blue too. Very light weight, airy, and comfortable.</td>\n",
       "      <td>5</td>\n",
       "      <td>(23, 2, 4)</td>\n",
       "      <td>0.692937</td>\n",
       "      <td>0.70</td>\n",
       "      <td>178</td>\n",
       "      <td>supportive</td>\n",
       "    </tr>\n",
       "    <tr>\n",
       "      <th>0</th>\n",
       "      <td>My son likes these, and this is the 2nd pair he's worn.</td>\n",
       "      <td>5</td>\n",
       "      <td>(23, 12)</td>\n",
       "      <td>0.500000</td>\n",
       "      <td>0.00</td>\n",
       "      <td>6</td>\n",
       "      <td>supportive</td>\n",
       "    </tr>\n",
       "    <tr>\n",
       "      <th>21</th>\n",
       "      <td>I actually have 3 pairs of these trainers.  They are very comfortable, there is a neoprene sleeve that goes around your ankle that makes them the most comfortable for me compared to normal athletic shoes.  They run a little narrow - for me this is perfect, but you may want to round up on the size or try on in the store first if your feet are on the wider side.</td>\n",
       "      <td>5</td>\n",
       "      <td>(23, 1, 5, 5)</td>\n",
       "      <td>0.569030</td>\n",
       "      <td>0.00</td>\n",
       "      <td>269</td>\n",
       "      <td>supportive</td>\n",
       "    </tr>\n",
       "    <tr>\n",
       "      <th>20</th>\n",
       "      <td>If you wear Nike on the regular, then you should pretty much know your size. I wear only 7's in Nike, and it fit just as expected. I have many of the trail runner generations, and love them all. they're my go to sneakers for the gym use, or casual wear. I have a pair I used mostly for casual wear that have lasted about 5 years. Another pair that I used for cross fit/outdoor runs that lasted a little over a year (very vigorous daily use). All in all, these shoes are great for me. They're lightweight, and comfortable.</td>\n",
       "      <td>5</td>\n",
       "      <td>(3, 0, 3, 2, 23, 1, 23, 1, 1, 4)</td>\n",
       "      <td>0.603712</td>\n",
       "      <td>0.00</td>\n",
       "      <td>238</td>\n",
       "      <td>supportive</td>\n",
       "    </tr>\n",
       "    <tr>\n",
       "      <th>18</th>\n",
       "      <td>This is my second pair of these shoes.  I love the fit and they provide support for walking.  I like the way the shoes fit around my ankle, as many shoes are uncomfortable because they come up too high in the back.  Try them!</td>\n",
       "      <td>5</td>\n",
       "      <td>(23, 9, 0, 5, 2)</td>\n",
       "      <td>0.556295</td>\n",
       "      <td>0.00</td>\n",
       "      <td>207</td>\n",
       "      <td>supportive</td>\n",
       "    </tr>\n",
       "    <tr>\n",
       "      <th>14</th>\n",
       "      <td>I love these shoes so much that  I reordered another pair online. It's hard to find shoes that fit my really wide feet! The heel back is my favorite part on them, they're thin and feel like another layer of skin, not bulky or tight at all.  I walked all over Europe in these!</td>\n",
       "      <td>5</td>\n",
       "      <td>(23, 5, 8, 1, 18)</td>\n",
       "      <td>0.519848</td>\n",
       "      <td>0.00</td>\n",
       "      <td>149</td>\n",
       "      <td>supportive</td>\n",
       "    </tr>\n",
       "    <tr>\n",
       "      <th>13</th>\n",
       "      <td>Comfortable shoe for both workout sessions and walking.  Neither too bulky nor too light.  This is my second pair because they fit and have no neon or pink colors, just nice basic B&amp;W.</td>\n",
       "      <td>5</td>\n",
       "      <td>(1, 10, 10, 23)</td>\n",
       "      <td>0.622224</td>\n",
       "      <td>0.00</td>\n",
       "      <td>135</td>\n",
       "      <td>supportive</td>\n",
       "    </tr>\n",
       "    <tr>\n",
       "      <th>12</th>\n",
       "      <td>I loved these shoes...that is until after about an hour of wear, the green inserts on the sole of the right show began falling off. The wear was in my home, on smooth floors. I can only assume they were defective.</td>\n",
       "      <td>1</td>\n",
       "      <td>(23, 6, 20)</td>\n",
       "      <td>0.599357</td>\n",
       "      <td>0.00</td>\n",
       "      <td>118</td>\n",
       "      <td>defeated</td>\n",
       "    </tr>\n",
       "    <tr>\n",
       "      <th>8</th>\n",
       "      <td>I love these, I had the previous iteration (or maybe two earlier?) and finally wore them out after several years. They are definitely a light-weight training shoe so I wouldn't get them if you are going to be doing a lot of running. But this also makes them extremely comfortable, I hadn't realized how hot running shoes made my feet until I switched to these. Good support and my feet stay cool all day, also noticeably light but well-made and long lasting.\\n\\nI have worn them hiking in a pinch but don't really recommend it because the material is mesh-like and will let a lot of dirt in. But if you mainly take cardio classes and/or do weight training or just need something to wear around town look no further.</td>\n",
       "      <td>5</td>\n",
       "      <td>(18, 23, 1, 1, 6, 22, 9, 18, 9)</td>\n",
       "      <td>0.610216</td>\n",
       "      <td>0.00</td>\n",
       "      <td>62</td>\n",
       "      <td>supportive</td>\n",
       "    </tr>\n",
       "    <tr>\n",
       "      <th>31</th>\n",
       "      <td>Super comfortable and fit my small feet perfectly. I have flat feet so a lot of shoes are not comfortable for long periods of time. I can wear the shoe all day long and they are super comfortable. They are light colored so any dirt will be seen right away, but they are easy to clean compared to other shoes Ive had. Would definitely buy another pair in a different color.</td>\n",
       "      <td>5</td>\n",
       "      <td>(0, 8, 6, 4, 18, 1, 20, 23)</td>\n",
       "      <td>0.596598</td>\n",
       "      <td>0.00</td>\n",
       "      <td>368</td>\n",
       "      <td>supportive</td>\n",
       "    </tr>\n",
       "  </tbody>\n",
       "</table>"
      ],
      "text/plain": [
       "<IPython.core.display.HTML object>"
      ]
     },
     "metadata": {},
     "output_type": "display_data"
    }
   ],
   "source": [
    "arg_selection, df_edges = analyze_a_topic(df_topics)"
   ]
  },
  {
   "cell_type": "markdown",
   "metadata": {},
   "source": [
    "## 5. Visualize review labels\n",
    "\n",
    "The attacking network of the reviews are visualized as below for better understanding the output."
   ]
  },
  {
   "cell_type": "code",
   "execution_count": 26,
   "metadata": {
    "jupyter": {
     "source_hidden": true
    }
   },
   "outputs": [],
   "source": [
    "def summarize_edges(df_edges):\n",
    "    return [ [ int(row[\"source\"]), int(row[\"target\"]), row[\"weight\"] ]\n",
    "             for index, row in df_edges.iterrows() if row[\"source\"] not in list(df_edges[\"target\"]) ]"
   ]
  },
  {
   "cell_type": "code",
   "execution_count": 27,
   "metadata": {
    "jupyter": {
     "source_hidden": true
    }
   },
   "outputs": [],
   "source": [
    "def draw_graph(arg_selection, df_edges):\n",
    "    DG = nx.DiGraph()\n",
    "    DG.add_nodes_from(list(arg_selection.index))\n",
    "    DG.add_edges_from([ [ source, target ] for source, target, weight in summarize_edges(df_edges) ])\n",
    "    # graph layout\n",
    "    pos = nx.shell_layout(DG)\n",
    "\n",
    "    # draw nodes\n",
    "    reliable_indices = arg_selection[arg_selection[\"labels\"] == \"supportive\"].index.tolist()\n",
    "    unreliable_indices = arg_selection[arg_selection[\"labels\"] == \"defeated\"].index.tolist()\n",
    "    nx.draw_networkx_nodes(DG, pos, nodelist=reliable_indices, node_color=\"tab:green\")\n",
    "    nx.draw_networkx_nodes(DG, pos, nodelist=unreliable_indices, node_color=\"tab:red\")\n",
    "\n",
    "    # draw edges\n",
    "    nx.draw_networkx_edges(DG, pos, width=[ 3 * weight for source, target, weight in summarize_edges(df_edges) ])\n",
    "\n",
    "    # draw labels\n",
    "    labels = {i: i for i in arg_selection.index}\n",
    "    nx.draw_networkx_labels(DG, pos, labels, font_size=9, font_color=\"whitesmoke\")\n",
    "\n",
    "    plt.show()"
   ]
  },
  {
   "cell_type": "code",
   "execution_count": 40,
   "metadata": {},
   "outputs": [
    {
     "data": {
      "image/png": "[encoded data removed]",
      "text/plain": [
       "<Figure size 640x480 with 1 Axes>"
      ]
     },
     "metadata": {},
     "output_type": "display_data"
    }
   ],
   "source": [
    "arg_selection, df_edges = analyze_a_topic(df_topics, show_data=False)\n",
    "draw_graph(arg_selection, df_edges)"
   ]
  },
  {
   "cell_type": "markdown",
   "metadata": {},
   "source": [
    "The plot shows that review #8, #11, #13 and #14 are supportive, while the others are defeated. Look back to the `arg_selection` table, those four reviews indeed had the highest level of consistence. Interestingly the score of #14 (negative) disagrees with those of #8, #11 and #13 (positive). The three nodes attack and defeat the single negative node with a lower coherence (#12) while #14 does the same with all positive nodes with a lower coherence. There are no nodes with a neutral score in this topic. "
   ]
  },
  {
   "cell_type": "code",
   "execution_count": null,
   "metadata": {},
   "outputs": [],
   "source": []
  }
 ],
 "metadata": {
  "kernelspec": {
   "display_name": "Python 3 (ipykernel)",
   "language": "python",
   "name": "python3"
  },
  "language_info": {
   "codemirror_mode": {
    "name": "ipython",
    "version": 3
   },
   "file_extension": ".py",
   "mimetype": "text/x-python",
   "name": "python",
   "nbconvert_exporter": "python",
   "pygments_lexer": "ipython3",
   "version": "3.9.13"
  }
 },
 "nbformat": 4,
 "nbformat_minor": 4
}
