{
 "cells": [
  {
   "cell_type": "markdown",
   "metadata": {},
   "source": [
    "# Example: Review Labeling by Topic\n",
    "\n",
    "In this notebook, we will use a subset of the Amazon Product Review data to demonstrate the usage of this work for labeling arguments. The problem to be addressed here is determining the credibility (reliable/unreliable) of reviews that evaluate a specific aspect of the product (i.e. size of shoes) and being able to provide reasoning for the results. The dataset can be found [here](https://github.com/EyeofBeholder-NLeSC/orange3-argument/blob/doc/examples/example_dataset.json)."
   ]
  },
  {
   "cell_type": "code",
   "execution_count": 1,
   "metadata": {
    "jupyter": {
     "source_hidden": true
    }
   },
   "outputs": [],
   "source": [
    "import networkx as nx\n",
    "import matplotlib.pyplot as plt\n",
    "from IPython.display import display, HTML\n",
    "from orangearg.argument.miner import reader, chunker, processor, miner\n",
    "\n",
    "fpath = \"./example_dataset.json\""
   ]
  },
  {
   "cell_type": "markdown",
   "metadata": {},
   "source": [
    "## 1. Read data"
   ]
  },
  {
   "cell_type": "code",
   "execution_count": 2,
   "metadata": {
    "jupyter": {
     "source_hidden": true
    }
   },
   "outputs": [],
   "source": [
    "df_arguments = reader.read_json_file(fpath=fpath)\n",
    "df_arguments = df_arguments.dropna().reset_index(drop=True)  # remove rows with na"
   ]
  },
  {
   "cell_type": "markdown",
   "metadata": {},
   "source": [
    "The results of reading the data file are as follows. It can be seen that this dataset contains two aspects of information, namely the text of the reviews (`reviewText`) and the rating evaluations provided by the purchasers (`overall`, ranging from 1 to 5 stars)."
   ]
  },
  {
   "cell_type": "code",
   "execution_count": 3,
   "metadata": {},
   "outputs": [
    {
     "data": {
      "text/html": [
       "<div>\n",
       "<style scoped>\n",
       "    .dataframe tbody tr th:only-of-type {\n",
       "        vertical-align: middle;\n",
       "    }\n",
       "\n",
       "    .dataframe tbody tr th {\n",
       "        vertical-align: top;\n",
       "    }\n",
       "\n",
       "    .dataframe thead th {\n",
       "        text-align: right;\n",
       "    }\n",
       "</style>\n",
       "<table border=\"1\" class=\"dataframe\">\n",
       "  <thead>\n",
       "    <tr style=\"text-align: right;\">\n",
       "      <th></th>\n",
       "      <th>reviewText</th>\n",
       "      <th>overall</th>\n",
       "    </tr>\n",
       "  </thead>\n",
       "  <tbody>\n",
       "    <tr>\n",
       "      <th>0</th>\n",
       "      <td>I always get a half size up in my tennis shoes...</td>\n",
       "      <td>3</td>\n",
       "    </tr>\n",
       "    <tr>\n",
       "      <th>1</th>\n",
       "      <td>Put them on and walked 3 hours with no problem...</td>\n",
       "      <td>5</td>\n",
       "    </tr>\n",
       "    <tr>\n",
       "      <th>2</th>\n",
       "      <td>excelente</td>\n",
       "      <td>5</td>\n",
       "    </tr>\n",
       "    <tr>\n",
       "      <th>3</th>\n",
       "      <td>The shoes fit well in the arch area. They are ...</td>\n",
       "      <td>4</td>\n",
       "    </tr>\n",
       "    <tr>\n",
       "      <th>4</th>\n",
       "      <td>Tried them on in a store before buying online ...</td>\n",
       "      <td>5</td>\n",
       "    </tr>\n",
       "    <tr>\n",
       "      <th>...</th>\n",
       "      <td>...</td>\n",
       "      <td>...</td>\n",
       "    </tr>\n",
       "    <tr>\n",
       "      <th>365</th>\n",
       "      <td>Favorite Nike shoe ever! The flex sole is exce...</td>\n",
       "      <td>5</td>\n",
       "    </tr>\n",
       "    <tr>\n",
       "      <th>366</th>\n",
       "      <td>I wear these everyday to work, the gym, etc.</td>\n",
       "      <td>5</td>\n",
       "    </tr>\n",
       "    <tr>\n",
       "      <th>367</th>\n",
       "      <td>Love these shoes! Great fit, very light weight.</td>\n",
       "      <td>5</td>\n",
       "    </tr>\n",
       "    <tr>\n",
       "      <th>368</th>\n",
       "      <td>Super comfortable and fit my small feet perfec...</td>\n",
       "      <td>5</td>\n",
       "    </tr>\n",
       "    <tr>\n",
       "      <th>369</th>\n",
       "      <td>Love these shoes!</td>\n",
       "      <td>5</td>\n",
       "    </tr>\n",
       "  </tbody>\n",
       "</table>\n",
       "<p>370 rows × 2 columns</p>\n",
       "</div>"
      ],
      "text/plain": [
       "                                            reviewText  overall\n",
       "0    I always get a half size up in my tennis shoes...        3\n",
       "1    Put them on and walked 3 hours with no problem...        5\n",
       "2                                            excelente        5\n",
       "3    The shoes fit well in the arch area. They are ...        4\n",
       "4    Tried them on in a store before buying online ...        5\n",
       "..                                                 ...      ...\n",
       "365  Favorite Nike shoe ever! The flex sole is exce...        5\n",
       "366       I wear these everyday to work, the gym, etc.        5\n",
       "367    Love these shoes! Great fit, very light weight.        5\n",
       "368  Super comfortable and fit my small feet perfec...        5\n",
       "369                                  Love these shoes!        5\n",
       "\n",
       "[370 rows x 2 columns]"
      ]
     },
     "execution_count": 3,
     "metadata": {},
     "output_type": "execute_result"
    }
   ],
   "source": [
    "df_arguments"
   ]
  },
  {
   "cell_type": "markdown",
   "metadata": {},
   "source": [
    "## 2. Language analysis\n",
    "\n",
    "The language analysis divides reviews in sequences of words which express complete meanings. These sequences are called chunks. The reason for doing this is to identify from which different perspectives reviews provide their evaluations, in preparation for the subsequent review labeling process. "
   ]
  },
  {
   "cell_type": "code",
   "execution_count": 4,
   "metadata": {
    "jupyter": {
     "source_hidden": true
    }
   },
   "outputs": [],
   "source": [
    "def split_reviews_into_chunks(arguments):\n",
    "    return chunker.get_chunk(docs=arguments)"
   ]
  },
  {
   "cell_type": "code",
   "execution_count": 5,
   "metadata": {
    "jupyter": {
     "source_hidden": true
    }
   },
   "outputs": [],
   "source": [
    "def compute_polarity_score_of_chunks(chunks):\n",
    "    return chunker.get_chunk_polarity_score(chunks=chunks)"
   ]
  },
  {
   "cell_type": "code",
   "execution_count": 6,
   "metadata": {
    "jupyter": {
     "source_hidden": true
    }
   },
   "outputs": [],
   "source": [
    "def compute_topics_of_chunks(chunks):\n",
    "    return chunker.get_chunk_topic(chunks=chunks)"
   ]
  },
  {
   "cell_type": "code",
   "execution_count": 7,
   "metadata": {
    "jupyter": {
     "source_hidden": true
    }
   },
   "outputs": [],
   "source": [
    "def compute_importance_of_chunks(chunk_arg_ids, chunk_embeds):\n",
    "    return chunker.get_chunk_rank(arg_ids=chunk_arg_ids, embeds=chunk_embeds)"
   ]
  },
  {
   "cell_type": "code",
   "execution_count": 8,
   "metadata": {
    "jupyter": {
     "source_hidden": true
    }
   },
   "outputs": [],
   "source": [
    "def perform_language_analysis(df_arguments):\n",
    "    arguments = df_arguments[\"reviewText\"]\n",
    "    arg_scores = df_arguments[\"overall\"]\n",
    "    chunk_arg_ids, chunks = split_reviews_into_chunks(arguments)\n",
    "    chunk_p_scores = compute_polarity_score_of_chunks(chunks)\n",
    "    chunk_topics, chunk_embeds, df_topics = compute_topics_of_chunks(chunks)\n",
    "    chunk_ranks = compute_importance_of_chunks(chunk_arg_ids, chunk_embeds)\n",
    "    return chunker.get_chunk_table(\n",
    "               arg_ids=chunk_arg_ids, \n",
    "               chunks=chunks, \n",
    "               p_scores=chunk_p_scores, \n",
    "               topics=chunk_topics, \n",
    "               ranks=chunk_ranks\n",
    "            ), df_topics"
   ]
  },
  {
   "cell_type": "code",
   "execution_count": 9,
   "metadata": {},
   "outputs": [
    {
     "name": "stderr",
     "output_type": "stream",
     "text": [
      "2024-01-08 11:44:52,372 - BERTopic - WARNING: Using a custom list of topic assignments may lead to errors if topic reduction techniques are used afterwards. Make sure that manually assigning topics is the last step in the pipeline.Note that topic embeddings will also be created through weightedc-TF-IDF embeddings instead of centroid embeddings.\n"
     ]
    }
   ],
   "source": [
    "df_chunks, df_topics = perform_language_analysis(df_arguments)"
   ]
  },
  {
   "cell_type": "markdown",
   "metadata": {},
   "source": [
    "Some explanation of `df_chunks`:\n",
    "\n",
    "* `argument_id`: the index of the argument the chunk coming from.\n",
    "* `polarity_score`: the sentiment polarity score of a chunk, in range of [-1, 1], where 0 signifies neutrality, positive values indicate positivity, and negative values denote negativity. \n",
    "* `topic`: the index of a topic in the `df_topics` table below.\n",
    "* `rank`: importance of a chunk within the argument it comes from, in range of [0, 1]. This is computed as the pagerank of chunks based on the similarity network of chunks. Therefore, the sum of ranks from chunks belonging to the same argument is equal to 1."
   ]
  },
  {
   "cell_type": "code",
   "execution_count": 10,
   "metadata": {},
   "outputs": [
    {
     "data": {
      "text/html": [
       "<div>\n",
       "<style scoped>\n",
       "    .dataframe tbody tr th:only-of-type {\n",
       "        vertical-align: middle;\n",
       "    }\n",
       "\n",
       "    .dataframe tbody tr th {\n",
       "        vertical-align: top;\n",
       "    }\n",
       "\n",
       "    .dataframe thead th {\n",
       "        text-align: right;\n",
       "    }\n",
       "</style>\n",
       "<table border=\"1\" class=\"dataframe\">\n",
       "  <thead>\n",
       "    <tr style=\"text-align: right;\">\n",
       "      <th></th>\n",
       "      <th>argument_id</th>\n",
       "      <th>chunk</th>\n",
       "      <th>polarity_score</th>\n",
       "      <th>topic</th>\n",
       "      <th>rank</th>\n",
       "    </tr>\n",
       "  </thead>\n",
       "  <tbody>\n",
       "    <tr>\n",
       "      <th>0</th>\n",
       "      <td>0</td>\n",
       "      <td>I always get a half size up in my tennis shoes .</td>\n",
       "      <td>-0.166667</td>\n",
       "      <td>2</td>\n",
       "      <td>0.500000</td>\n",
       "    </tr>\n",
       "    <tr>\n",
       "      <th>1</th>\n",
       "      <td>0</td>\n",
       "      <td>For some reason these feel to big in the heel ...</td>\n",
       "      <td>-0.050000</td>\n",
       "      <td>12</td>\n",
       "      <td>0.500000</td>\n",
       "    </tr>\n",
       "    <tr>\n",
       "      <th>2</th>\n",
       "      <td>1</td>\n",
       "      <td>walked 3 hours with no problem</td>\n",
       "      <td>0.000000</td>\n",
       "      <td>14</td>\n",
       "      <td>0.249313</td>\n",
       "    </tr>\n",
       "    <tr>\n",
       "      <th>3</th>\n",
       "      <td>1</td>\n",
       "      <td>Put them on and !</td>\n",
       "      <td>0.000000</td>\n",
       "      <td>20</td>\n",
       "      <td>0.255691</td>\n",
       "    </tr>\n",
       "    <tr>\n",
       "      <th>4</th>\n",
       "      <td>1</td>\n",
       "      <td>Love them !</td>\n",
       "      <td>0.625000</td>\n",
       "      <td>1</td>\n",
       "      <td>0.239702</td>\n",
       "    </tr>\n",
       "  </tbody>\n",
       "</table>\n",
       "</div>"
      ],
      "text/plain": [
       "   argument_id                                              chunk  \\\n",
       "0            0   I always get a half size up in my tennis shoes .   \n",
       "1            0  For some reason these feel to big in the heel ...   \n",
       "2            1                     walked 3 hours with no problem   \n",
       "3            1                                  Put them on and !   \n",
       "4            1                                        Love them !   \n",
       "\n",
       "   polarity_score  topic      rank  \n",
       "0       -0.166667      2  0.500000  \n",
       "1       -0.050000     12  0.500000  \n",
       "2        0.000000     14  0.249313  \n",
       "3        0.000000     20  0.255691  \n",
       "4        0.625000      1  0.239702  "
      ]
     },
     "execution_count": 10,
     "metadata": {},
     "output_type": "execute_result"
    }
   ],
   "source": [
    "df_chunks.head()"
   ]
  },
  {
   "cell_type": "markdown",
   "metadata": {},
   "source": [
    "Explanation of `df_topics`:\n",
    "\n",
    "* `topic`: the index of a topic\n",
    "* `count`: the number of chunks in a topic\n",
    "* `keywords`: the top keywords of a topic\n",
    "* `name`: a short name of the topic"
   ]
  },
  {
   "cell_type": "code",
   "execution_count": 11,
   "metadata": {},
   "outputs": [
    {
     "data": {
      "text/html": [
       "<div>\n",
       "<style scoped>\n",
       "    .dataframe tbody tr th:only-of-type {\n",
       "        vertical-align: middle;\n",
       "    }\n",
       "\n",
       "    .dataframe tbody tr th {\n",
       "        vertical-align: top;\n",
       "    }\n",
       "\n",
       "    .dataframe thead th {\n",
       "        text-align: right;\n",
       "    }\n",
       "</style>\n",
       "<table border=\"1\" class=\"dataframe\">\n",
       "  <thead>\n",
       "    <tr style=\"text-align: right;\">\n",
       "      <th></th>\n",
       "      <th>topic</th>\n",
       "      <th>count</th>\n",
       "      <th>name</th>\n",
       "      <th>keywords</th>\n",
       "    </tr>\n",
       "  </thead>\n",
       "  <tbody>\n",
       "    <tr>\n",
       "      <th>0</th>\n",
       "      <td>0</td>\n",
       "      <td>97</td>\n",
       "      <td>0_fit_perfect_fits_true</td>\n",
       "      <td>(fit, perfect, fits, true, perfectly, expected...</td>\n",
       "    </tr>\n",
       "    <tr>\n",
       "      <th>1</th>\n",
       "      <td>1</td>\n",
       "      <td>79</td>\n",
       "      <td>1_love_them_they_are</td>\n",
       "      <td>(love, them, they, are, these, cute, really, p...</td>\n",
       "    </tr>\n",
       "    <tr>\n",
       "      <th>2</th>\n",
       "      <td>2</td>\n",
       "      <td>72</td>\n",
       "      <td>2_size_ordered_half_big</td>\n",
       "      <td>(size, ordered, half, big, an, wear, always, l...</td>\n",
       "    </tr>\n",
       "    <tr>\n",
       "      <th>3</th>\n",
       "      <td>3</td>\n",
       "      <td>64</td>\n",
       "      <td>3_they_are_comfortable_and</td>\n",
       "      <td>(they, are, comfortable, and, very, light, com...</td>\n",
       "    </tr>\n",
       "    <tr>\n",
       "      <th>4</th>\n",
       "      <td>4</td>\n",
       "      <td>60</td>\n",
       "      <td>4_purchase_satisfied_with_pleased</td>\n",
       "      <td>(purchase, satisfied, with, pleased, am, time,...</td>\n",
       "    </tr>\n",
       "  </tbody>\n",
       "</table>\n",
       "</div>"
      ],
      "text/plain": [
       "   topic  count                               name  \\\n",
       "0      0     97            0_fit_perfect_fits_true   \n",
       "1      1     79               1_love_them_they_are   \n",
       "2      2     72            2_size_ordered_half_big   \n",
       "3      3     64         3_they_are_comfortable_and   \n",
       "4      4     60  4_purchase_satisfied_with_pleased   \n",
       "\n",
       "                                            keywords  \n",
       "0  (fit, perfect, fits, true, perfectly, expected...  \n",
       "1  (love, them, they, are, these, cute, really, p...  \n",
       "2  (size, ordered, half, big, an, wear, always, l...  \n",
       "3  (they, are, comfortable, and, very, light, com...  \n",
       "4  (purchase, satisfied, with, pleased, am, time,...  "
      ]
     },
     "execution_count": 11,
     "metadata": {},
     "output_type": "execute_result"
    }
   ],
   "source": [
    "df_topics.head()"
   ]
  },
  {
   "cell_type": "markdown",
   "metadata": {},
   "source": [
    "## 3. Merge related chunks\n",
    "\n",
    "By merging the chunks back into reviews and performing the corresponding computations, we will obtain relevant information at the review level, including the topics covered in each review, the sentiment of the review, and its consistency with the overall score. This information will be further used for labeling reviews under different topics."
   ]
  },
  {
   "cell_type": "code",
   "execution_count": 12,
   "metadata": {
    "jupyter": {
     "source_hidden": true
    }
   },
   "outputs": [],
   "source": [
    "def compute_topics_of_arguments(chunk_arg_ids, chunk_topics):\n",
    "    return processor.get_argument_topics(arg_ids=chunk_arg_ids, topics=chunk_topics)"
   ]
  },
  {
   "cell_type": "code",
   "execution_count": 13,
   "metadata": {
    "jupyter": {
     "source_hidden": true
    }
   },
   "outputs": [],
   "source": [
    "def compute_sentiment_of_arguments(chunk_arg_ids, chunk_ranks, chunk_p_scores):\n",
    "    return processor.get_argument_sentiment(arg_ids=chunk_arg_ids, ranks=chunk_ranks, p_scores=chunk_p_scores)"
   ]
  },
  {
   "cell_type": "code",
   "execution_count": 14,
   "metadata": {
    "jupyter": {
     "source_hidden": true
    }
   },
   "outputs": [],
   "source": [
    "def compute_the_coherence_between_the_sentiments_and_the_overall_of_arguments(arg_scores, arg_sentiments):\n",
    "    return processor.get_argument_coherence(scores=arg_scores, sentiments=arg_sentiments)"
   ]
  },
  {
   "cell_type": "code",
   "execution_count": 15,
   "metadata": {
    "jupyter": {
     "source_hidden": true
    }
   },
   "outputs": [],
   "source": [
    "COHERENCE_SCORE_BINS = [ 0.96, 0.88, 0.8, 0.7, 0.0 ]\n",
    "\n",
    "def bin_coherence_scores(arg_coherences, coherence_score_bins=COHERENCE_SCORE_BINS):\n",
    "    for index in range(0, len(arg_coherences)):\n",
    "        for threshold in coherence_score_bins:\n",
    "            if arg_coherences[index] >= threshold:\n",
    "                arg_coherences[index] = threshold\n",
    "                break\n",
    "    return arg_coherences"
   ]
  },
  {
   "cell_type": "code",
   "execution_count": 16,
   "metadata": {},
   "outputs": [],
   "source": [
    "def merge_related_chunks(df_chunks, df_arguments):\n",
    "    arg_scores = df_arguments[\"overall\"]\n",
    "    arg_topics = compute_topics_of_arguments(df_chunks[\"argument_id\"], df_chunks[\"topic\"])\n",
    "    arg_sentiments = compute_sentiment_of_arguments(df_chunks[\"argument_id\"], df_chunks[\"rank\"], df_chunks[\"polarity_score\"])\n",
    "    arg_coherences = compute_the_coherence_between_the_sentiments_and_the_overall_of_arguments(arg_scores, arg_sentiments)\n",
    "    arg_coherences = bin_coherence_scores(arg_coherences)\n",
    "    return processor.update_argument_table(\n",
    "               df_arguments=df_arguments, \n",
    "               topics=arg_topics, \n",
    "               sentiments=arg_sentiments, \n",
    "               coherences=arg_coherences\n",
    "           )"
   ]
  },
  {
   "cell_type": "markdown",
   "metadata": {},
   "source": [
    "Some columns are added to the original `df_arguments` dataframe, which are:\n",
    "\n",
    "* `topics`: the topics that an argument has mentioned.\n",
    "\n",
    "* `sentiment`: the sentiment score of an argument, in range of [0, 1], the higher the more positive.\n",
    "\n",
    "* `coherence`: the coherence between the `sentiment` and `overall`, in range of [0, 1], the higher the more coherent."
   ]
  },
  {
   "cell_type": "code",
   "execution_count": 17,
   "metadata": {},
   "outputs": [
    {
     "data": {
      "text/html": [
       "<div>\n",
       "<style scoped>\n",
       "    .dataframe tbody tr th:only-of-type {\n",
       "        vertical-align: middle;\n",
       "    }\n",
       "\n",
       "    .dataframe tbody tr th {\n",
       "        vertical-align: top;\n",
       "    }\n",
       "\n",
       "    .dataframe thead th {\n",
       "        text-align: right;\n",
       "    }\n",
       "</style>\n",
       "<table border=\"1\" class=\"dataframe\">\n",
       "  <thead>\n",
       "    <tr style=\"text-align: right;\">\n",
       "      <th></th>\n",
       "      <th>reviewText</th>\n",
       "      <th>overall</th>\n",
       "      <th>topics</th>\n",
       "      <th>sentiment</th>\n",
       "      <th>coherence</th>\n",
       "    </tr>\n",
       "  </thead>\n",
       "  <tbody>\n",
       "    <tr>\n",
       "      <th>0</th>\n",
       "      <td>I always get a half size up in my tennis shoes...</td>\n",
       "      <td>3</td>\n",
       "      <td>(2, 12)</td>\n",
       "      <td>0.445833</td>\n",
       "      <td>0.96</td>\n",
       "    </tr>\n",
       "    <tr>\n",
       "      <th>1</th>\n",
       "      <td>Put them on and walked 3 hours with no problem...</td>\n",
       "      <td>5</td>\n",
       "      <td>(14, 20, 1, 7)</td>\n",
       "      <td>0.625966</td>\n",
       "      <td>0.70</td>\n",
       "    </tr>\n",
       "    <tr>\n",
       "      <th>2</th>\n",
       "      <td>excelente</td>\n",
       "      <td>5</td>\n",
       "      <td>(4,)</td>\n",
       "      <td>0.500000</td>\n",
       "      <td>0.00</td>\n",
       "    </tr>\n",
       "    <tr>\n",
       "      <th>3</th>\n",
       "      <td>The shoes fit well in the arch area. They are ...</td>\n",
       "      <td>4</td>\n",
       "      <td>(8, 12, 12, 23)</td>\n",
       "      <td>0.525574</td>\n",
       "      <td>0.88</td>\n",
       "    </tr>\n",
       "    <tr>\n",
       "      <th>4</th>\n",
       "      <td>Tried them on in a store before buying online ...</td>\n",
       "      <td>5</td>\n",
       "      <td>(0, 11, 3, 11, 4)</td>\n",
       "      <td>0.712592</td>\n",
       "      <td>0.80</td>\n",
       "    </tr>\n",
       "  </tbody>\n",
       "</table>\n",
       "</div>"
      ],
      "text/plain": [
       "                                          reviewText  overall  \\\n",
       "0  I always get a half size up in my tennis shoes...        3   \n",
       "1  Put them on and walked 3 hours with no problem...        5   \n",
       "2                                          excelente        5   \n",
       "3  The shoes fit well in the arch area. They are ...        4   \n",
       "4  Tried them on in a store before buying online ...        5   \n",
       "\n",
       "              topics  sentiment  coherence  \n",
       "0            (2, 12)   0.445833       0.96  \n",
       "1     (14, 20, 1, 7)   0.625966       0.70  \n",
       "2               (4,)   0.500000       0.00  \n",
       "3    (8, 12, 12, 23)   0.525574       0.88  \n",
       "4  (0, 11, 3, 11, 4)   0.712592       0.80  "
      ]
     },
     "execution_count": 17,
     "metadata": {},
     "output_type": "execute_result"
    }
   ],
   "source": [
    "df_arguments_processed = merge_related_chunks(df_chunks, df_arguments)\n",
    "df_arguments_processed.head()"
   ]
  },
  {
   "cell_type": "markdown",
   "metadata": {},
   "source": [
    "## 4. Add review labels\n",
    "\n",
    "In this step, by looking at reviews under a specific topic, an attacking network of reviews are built, where nodes are reviews and edges are the attacks in between. Reviews are labeled based on that. \n",
    "\n",
    "These are the rules of generating the network:\n",
    "\n",
    "* Attacking edges exist only between reviews with different `overall` score (between positive (4,5) and negatative (1,2))\n",
    "* Attacking edges start from a review with higher coherence to a review with a lower coherence\n",
    "* Weight of edges are computed as difference of coherence of the vertices\n",
    "* A node is labeled as `supportive` (meaning reliable in our case),\n",
    "    * if no other nodes attack it, or\n",
    "    * if all attackers of this node are attacked by some other nodes\n",
    "* A node is labeled as `defeated` (meaning unreliable in our case), if it is not `supportive`  "
   ]
  },
  {
   "cell_type": "code",
   "execution_count": 18,
   "metadata": {},
   "outputs": [],
   "source": [
    "def select_interesting_topic(df_topics, show_data=True):\n",
    "    interesting_topic = len(df_topics.iloc[-1])\n",
    "    for index,row in df_topics.iterrows():\n",
    "        if \"recommend\" in row[\"keywords\"]:\n",
    "            interesting_topic = index\n",
    "            break\n",
    "    if show_data:\n",
    "        print(f\"The chosen topic is topic nr. {interesting_topic}:\")\n",
    "        display(HTML(df_topics[df_topics[\"topic\"] == interesting_topic].to_html()))\n",
    "    return interesting_topic"
   ]
  },
  {
   "cell_type": "code",
   "execution_count": 19,
   "metadata": {
    "jupyter": {
     "source_hidden": true
    }
   },
   "outputs": [],
   "source": [
    "def select_arguments_for_topic(topic):\n",
    "    arg_selection = miner.select_by_topic(data=df_arguments_processed, topic=topic)\n",
    "    arg_selection = arg_selection.rename(columns={\n",
    "        \"reviewText\": \"argument\", \n",
    "        \"overall\": \"score\"\n",
    "    })  # rename columns for the following steps\n",
    "    return arg_selection"
   ]
  },
  {
   "cell_type": "code",
   "execution_count": 20,
   "metadata": {
    "jupyter": {
     "source_hidden": true
    }
   },
   "outputs": [],
   "source": [
    "def make_edges_for_attacking_network(arg_selection):\n",
    "    edges = miner.get_edges(data=arg_selection)\n",
    "    weights = miner.get_edge_weights(data=arg_selection, edges=edges)\n",
    "    df_edges = miner.get_edge_table(edges=edges, weights=weights)\n",
    "    df_edges = df_edges[df_edges[\"weight\"] != 0]\n",
    "    return df_edges"
   ]
  },
  {
   "cell_type": "code",
   "execution_count": 21,
   "metadata": {
    "jupyter": {
     "source_hidden": true
    }
   },
   "outputs": [],
   "source": [
    "NEUTRAL_SCORE = 3\n",
    "\n",
    "def remove_edges_from_to_neutrals(df_edges, arg_selection):\n",
    "    has_no_neutral_node = [ not (arg_selection.loc[row[\"source\"]][\"score\"] == NEUTRAL_SCORE or \n",
    "                                 arg_selection.loc[row[\"target\"]][\"score\"] == NEUTRAL_SCORE) \n",
    "                         for index, row in df_edges.iterrows() ]\n",
    "    return df_edges[has_no_neutral_node]"
   ]
  },
  {
   "cell_type": "code",
   "execution_count": 22,
   "metadata": {
    "jupyter": {
     "source_hidden": true
    }
   },
   "outputs": [],
   "source": [
    "def remove_edges_between_agreers(df_edges, arg_selection):\n",
    "    non_agreers = [ abs(arg_selection.loc[row[\"source\"]][\"score\"] - arg_selection.loc[row[\"target\"]][\"score\"]) > 1\n",
    "                    for index, row in df_edges.iterrows() ]\n",
    "    return df_edges[non_agreers]"
   ]
  },
  {
   "cell_type": "code",
   "execution_count": 23,
   "metadata": {
    "jupyter": {
     "source_hidden": true
    }
   },
   "outputs": [],
   "source": [
    "def add_review_labels(arg_selection, df_edges):\n",
    "    if len(df_edges) == 0:\n",
    "        arg_selection[\"labels\"] = len(arg_selection) * [\"supportive\"]\n",
    "    else:\n",
    "        labels = miner.get_node_labels(\n",
    "            indices=arg_selection.index.tolist(), \n",
    "            sources=df_edges[\"source\"].tolist(), \n",
    "            targets=df_edges[\"target\"].tolist()\n",
    "        )\n",
    "        arg_selection[\"labels\"] = labels #[0:len(arg_selection)]\n",
    "    return arg_selection"
   ]
  },
  {
   "cell_type": "code",
   "execution_count": 24,
   "metadata": {
    "jupyter": {
     "source_hidden": true
    }
   },
   "outputs": [],
   "source": [
    "def analyze_a_topic(df_topics, topic=-1, show_data=True):\n",
    "    if topic < 0:\n",
    "        topic = select_interesting_topic(df_topics, show_data)\n",
    "    arg_selection = select_arguments_for_topic(topic)\n",
    "    df_edges = make_edges_for_attacking_network(arg_selection)\n",
    "    df_edges = remove_edges_from_to_neutrals(df_edges, arg_selection)\n",
    "    df_edges = remove_edges_between_agreers(df_edges, arg_selection)\n",
    "    arg_selection = add_review_labels(arg_selection, df_edges)\n",
    "    if show_data:\n",
    "        display(HTML(arg_selection.sort_values([\"coherence\"], ascending=False).to_html()))\n",
    "    return arg_selection, df_edges"
   ]
  },
  {
   "cell_type": "code",
   "execution_count": 25,
   "metadata": {},
   "outputs": [
    {
     "name": "stdout",
     "output_type": "stream",
     "text": [
      "The chosen topic is topic nr. 21:\n"
     ]
    },
    {
     "data": {
      "text/html": [
       "<table border=\"1\" class=\"dataframe\">\n",
       "  <thead>\n",
       "    <tr style=\"text-align: right;\">\n",
       "      <th></th>\n",
       "      <th>topic</th>\n",
       "      <th>count</th>\n",
       "      <th>name</th>\n",
       "      <th>keywords</th>\n",
       "    </tr>\n",
       "  </thead>\n",
       "  <tbody>\n",
       "    <tr>\n",
       "      <th>21</th>\n",
       "      <td>21</td>\n",
       "      <td>17</td>\n",
       "      <td>21_recommend_highly_would_recommended</td>\n",
       "      <td>(recommend, highly, would, recommended, definitely, it, suggest, let, shot, reccomend)</td>\n",
       "    </tr>\n",
       "  </tbody>\n",
       "</table>"
      ],
      "text/plain": [
       "<IPython.core.display.HTML object>"
      ]
     },
     "metadata": {},
     "output_type": "display_data"
    },
    {
     "data": {
      "text/html": [
       "<table border=\"1\" class=\"dataframe\">\n",
       "  <thead>\n",
       "    <tr style=\"text-align: right;\">\n",
       "      <th></th>\n",
       "      <th>argument</th>\n",
       "      <th>score</th>\n",
       "      <th>topics</th>\n",
       "      <th>sentiment</th>\n",
       "      <th>coherence</th>\n",
       "      <th>argument_id</th>\n",
       "      <th>labels</th>\n",
       "    </tr>\n",
       "  </thead>\n",
       "  <tbody>\n",
       "    <tr>\n",
       "      <th>8</th>\n",
       "      <td>Super comfy, true Size , I use them for boot Camp,  cross fit and they are great , absolutely recommended it.</td>\n",
       "      <td>5</td>\n",
       "      <td>(11, 21, 1)</td>\n",
       "      <td>0.712469</td>\n",
       "      <td>0.8</td>\n",
       "      <td>167</td>\n",
       "      <td>supportive</td>\n",
       "    </tr>\n",
       "    <tr>\n",
       "      <th>15</th>\n",
       "      <td>These shoes are poorly constructed and I don't expect them to last more that one summer.  Would not recommend, and will not order another Nike downshifter series again</td>\n",
       "      <td>2</td>\n",
       "      <td>(20, 25, 18, 21)</td>\n",
       "      <td>0.481704</td>\n",
       "      <td>0.8</td>\n",
       "      <td>358</td>\n",
       "      <td>supportive</td>\n",
       "    </tr>\n",
       "    <tr>\n",
       "      <th>14</th>\n",
       "      <td>Love it!! Super comfortable and nice!! Got more than I expected, super flexible great for training. Definetly recommend it.</td>\n",
       "      <td>5</td>\n",
       "      <td>(1, 15, 6, 5, 21)</td>\n",
       "      <td>0.723767</td>\n",
       "      <td>0.8</td>\n",
       "      <td>356</td>\n",
       "      <td>supportive</td>\n",
       "    </tr>\n",
       "    <tr>\n",
       "      <th>11</th>\n",
       "      <td>Perfect fit! Brand new in new box completely perfect condition and on sale!!! Awesome! Highly reccomend! Super cute shoes.</td>\n",
       "      <td>5</td>\n",
       "      <td>(0, 4, 4, 15, 21, 23)</td>\n",
       "      <td>0.731985</td>\n",
       "      <td>0.8</td>\n",
       "      <td>236</td>\n",
       "      <td>supportive</td>\n",
       "    </tr>\n",
       "    <tr>\n",
       "      <th>12</th>\n",
       "      <td>After using this shoes seven times for regular activities like walking or dancing the sole came out. I am very disappointed. I don't recommend this product at all. The worse part is that I can not return this item because the return window closed 4 days ago.</td>\n",
       "      <td>1</td>\n",
       "      <td>(9, 4, 21, 24)</td>\n",
       "      <td>0.345672</td>\n",
       "      <td>0.7</td>\n",
       "      <td>305</td>\n",
       "      <td>defeated</td>\n",
       "    </tr>\n",
       "    <tr>\n",
       "      <th>2</th>\n",
       "      <td>Straight out of the box, these shoes are great! Very lightweight and fits comfortably on my feet like a glove! I love most especially that the sole is not bulky like my previous running shoes  I hated those things lol! I would give them a shot and they are great for the price!</td>\n",
       "      <td>5</td>\n",
       "      <td>(26, 0, 7, 1, 11, 15, 1, 21)</td>\n",
       "      <td>0.657501</td>\n",
       "      <td>0.7</td>\n",
       "      <td>31</td>\n",
       "      <td>defeated</td>\n",
       "    </tr>\n",
       "    <tr>\n",
       "      <th>3</th>\n",
       "      <td>Glad I read the reviews and ordered a half size too big. These are light weight. I worked out in them last night and had a great work out. They are very comfortable. I would recommend these to anyone. I am a Beach Body Coach and these are now my new favorite shoes to work out in. I feel like I am walking in slippers when I wear these shoes. They are so comfortable. I LOVE them so much. I never buy myself anything nice and for Christmas got an Amazon gift card and used it to buy myself these sneakers and they are so awesome. I really do love them and have been telling all my friends about them. GET THESE SHOES!</td>\n",
       "      <td>5</td>\n",
       "      <td>(2, 4, 7, 4, 20, 3, 21, 11, 14, 8, 3, 1, 18, 1, 18, 1, 1, 26)</td>\n",
       "      <td>0.647867</td>\n",
       "      <td>0.7</td>\n",
       "      <td>60</td>\n",
       "      <td>defeated</td>\n",
       "    </tr>\n",
       "    <tr>\n",
       "      <th>6</th>\n",
       "      <td>I have pretty high arches and my calves always hurt at the gym with other shoes. I have been on the hunt for a good cross trainer that I can use to lift, take gym classes, and lightly jog/run on the treadmill. These have been wonderful! I don't ever have any pain in my calves or my feet when wearing these and they fit like a glove. Highly recommend!</td>\n",
       "      <td>5</td>\n",
       "      <td>(9, 14, 5, 1, 0, 9, 21)</td>\n",
       "      <td>0.672440</td>\n",
       "      <td>0.7</td>\n",
       "      <td>91</td>\n",
       "      <td>defeated</td>\n",
       "    </tr>\n",
       "    <tr>\n",
       "      <th>13</th>\n",
       "      <td>BEST. SHOES. EVER.  I bought two pairs in different colors- black n' white and the pink and white...  They have AWESOME support for whatever you use them for.. I have one for work and the other for training/running/etc in...</td>\n",
       "      <td>5</td>\n",
       "      <td>(15, 8, 21, 16, 19, 5)</td>\n",
       "      <td>0.652100</td>\n",
       "      <td>0.7</td>\n",
       "      <td>317</td>\n",
       "      <td>defeated</td>\n",
       "    </tr>\n",
       "    <tr>\n",
       "      <th>1</th>\n",
       "      <td>Great shoe. I've had Nike's before and have always been pleased with the comfort, performance, and quality. Though I will say this was the first time I ordered a pair online without trying them on first, so I was nervous. But this turned out to be a great choice. Breathable, lightweight but sturdy, and comfortable during all my workouts. The built-in arch support is great and I've had no discomfort after 2 weeks of use. As far as the sole thickness and cushioning goes, I would consider these a 'medium' build (not thin, not overly thick) so if you're into heavy running outdoors then take that into consideration. Everyone is different in their preference for cushioning, but I think for light runs on a treadmill they would be sufficient. Love these, highly recommend!</td>\n",
       "      <td>5</td>\n",
       "      <td>(23, 4, 18, 16, 4, 3, 6, 9, 19, 8, 5, 3, 21)</td>\n",
       "      <td>0.662965</td>\n",
       "      <td>0.7</td>\n",
       "      <td>20</td>\n",
       "      <td>defeated</td>\n",
       "    </tr>\n",
       "    <tr>\n",
       "      <th>9</th>\n",
       "      <td>Just because they are white, they do need a washing regularly but I have received many compliments on how pretty these white and pink shoes are. Extremely good Nike quality. Highly recommended.</td>\n",
       "      <td>5</td>\n",
       "      <td>(26, 3, 18, 21)</td>\n",
       "      <td>0.628051</td>\n",
       "      <td>0.7</td>\n",
       "      <td>172</td>\n",
       "      <td>defeated</td>\n",
       "    </tr>\n",
       "    <tr>\n",
       "      <th>10</th>\n",
       "      <td>I love these shoes. I am rather basic when it comes to Nikes, I don't need all the cool colors, so these look amazing and feel amazing, like they were made for my feet. I definitely suggest purchasing them.</td>\n",
       "      <td>5</td>\n",
       "      <td>(26, 18, 8, 7, 21)</td>\n",
       "      <td>0.646185</td>\n",
       "      <td>0.7</td>\n",
       "      <td>223</td>\n",
       "      <td>defeated</td>\n",
       "    </tr>\n",
       "    <tr>\n",
       "      <th>0</th>\n",
       "      <td>I recommend that!</td>\n",
       "      <td>5</td>\n",
       "      <td>(21,)</td>\n",
       "      <td>0.500000</td>\n",
       "      <td>0.0</td>\n",
       "      <td>5</td>\n",
       "      <td>defeated</td>\n",
       "    </tr>\n",
       "    <tr>\n",
       "      <th>7</th>\n",
       "      <td>I use these for my Cardio Dance class and they are perfect and very cute. I would definitely recommend. They also cam earlier than expected!!</td>\n",
       "      <td>5</td>\n",
       "      <td>(1, 5, 21, 4)</td>\n",
       "      <td>0.594922</td>\n",
       "      <td>0.0</td>\n",
       "      <td>148</td>\n",
       "      <td>defeated</td>\n",
       "    </tr>\n",
       "    <tr>\n",
       "      <th>5</th>\n",
       "      <td>Super light-weight, decent arch support (mine is higher than average).  I was pleasantly surprised by the sole/tread on these for my circuit training classes, as I couldn't really tell by online pics.  Also pleasantly surprised that these ran ever so slightly bigger than Nike running shoes I use to wear 15+years ago - I always wore one to 1.5 sizes larger in their \"Hurache's\"/running shoes, so I was really worried my size 6 would be too small - there is actually more toe room in these shoes than any other size 6 shoe I own (athletic, heel, boot).  But it is the correct amount of room from big toe to edge of shoe for me (an inch or less, I don't want my big toe being jammed into edge of shoe when lunging, jumping, etc.).  Shoes arrived with an odd yellowish color on side of one shoe, but no damage to box, paper lining etc - I was happy that a clorox wipe easily cleaned the shoe and did not discolor any further.  I am very happy and highly recommend, although I have only worked out it once!</td>\n",
       "      <td>5</td>\n",
       "      <td>(19, 8, 8, 12, 25, 25, 21)</td>\n",
       "      <td>0.569682</td>\n",
       "      <td>0.0</td>\n",
       "      <td>63</td>\n",
       "      <td>defeated</td>\n",
       "    </tr>\n",
       "    <tr>\n",
       "      <th>4</th>\n",
       "      <td>I love these, I had the previous iteration (or maybe two earlier?) and finally wore them out after several years. They are definitely a light-weight training shoe so I wouldn't get them if you are going to be doing a lot of running. But this also makes them extremely comfortable, I hadn't realized how hot running shoes made my feet until I switched to these. Good support and my feet stay cool all day, also noticeably light but well-made and long lasting.\\n\\nI have worn them hiking in a pinch but don't really recommend it because the material is mesh-like and will let a lot of dirt in. But if you mainly take cardio classes and/or do weight training or just need something to wear around town look no further.</td>\n",
       "      <td>5</td>\n",
       "      <td>(20, 16, 11, 8, 9, 19, 21, 20, 5)</td>\n",
       "      <td>0.610217</td>\n",
       "      <td>0.0</td>\n",
       "      <td>62</td>\n",
       "      <td>defeated</td>\n",
       "    </tr>\n",
       "    <tr>\n",
       "      <th>16</th>\n",
       "      <td>Favorite Nike shoe ever! The flex sole is excellent for someone like me who loves the free feeling of sandals or being barefoot. These move effortlessly with the bend of my foot. I've worn these for multiple activities and I've had no foot or ankle pain. The white/green/dark grey color goes with so many outfits and the mesh breathes perfectly on hot summer days. Highly recommend!</td>\n",
       "      <td>5</td>\n",
       "      <td>(26, 8, 8, 9, 20, 6, 10, 21)</td>\n",
       "      <td>0.597352</td>\n",
       "      <td>0.0</td>\n",
       "      <td>365</td>\n",
       "      <td>defeated</td>\n",
       "    </tr>\n",
       "  </tbody>\n",
       "</table>"
      ],
      "text/plain": [
       "<IPython.core.display.HTML object>"
      ]
     },
     "metadata": {},
     "output_type": "display_data"
    }
   ],
   "source": [
    "arg_selection, df_edges = analyze_a_topic(df_topics)"
   ]
  },
  {
   "cell_type": "markdown",
   "metadata": {},
   "source": [
    "## 5. Visualize review labels\n",
    "\n",
    "The attacking network of the reviews are visualized as below for better understanding the output."
   ]
  },
  {
   "cell_type": "code",
   "execution_count": 26,
   "metadata": {
    "jupyter": {
     "source_hidden": true
    }
   },
   "outputs": [],
   "source": [
    "def summarize_edges(df_edges):\n",
    "    return [ [ int(row[\"source\"]), int(row[\"target\"]), row[\"weight\"] ]\n",
    "             for index, row in df_edges.iterrows() if row[\"source\"] not in list(df_edges[\"target\"]) ]"
   ]
  },
  {
   "cell_type": "code",
   "execution_count": 27,
   "metadata": {
    "jupyter": {
     "source_hidden": true
    }
   },
   "outputs": [],
   "source": [
    "def draw_graph(arg_selection, df_edges):\n",
    "    DG = nx.DiGraph()\n",
    "    DG.add_nodes_from(list(arg_selection.index))\n",
    "    DG.add_edges_from([ [ source, target ] for source, target, weight in summarize_edges(df_edges) ])\n",
    "    # graph layout\n",
    "    pos = nx.shell_layout(DG)\n",
    "\n",
    "    # draw nodes\n",
    "    reliable_indices = arg_selection[arg_selection[\"labels\"] == \"supportive\"].index.tolist()\n",
    "    unreliable_indices = arg_selection[arg_selection[\"labels\"] == \"defeated\"].index.tolist()\n",
    "    nx.draw_networkx_nodes(DG, pos, nodelist=reliable_indices, node_color=\"tab:green\")\n",
    "    nx.draw_networkx_nodes(DG, pos, nodelist=unreliable_indices, node_color=\"tab:red\")\n",
    "\n",
    "    # draw edges\n",
    "    nx.draw_networkx_edges(DG, pos, width=[ 3 * weight for source, target, weight in summarize_edges(df_edges) ])\n",
    "\n",
    "    # draw labels\n",
    "    labels = {i: i for i in arg_selection.index}\n",
    "    nx.draw_networkx_labels(DG, pos, labels, font_size=9, font_color=\"whitesmoke\")\n",
    "\n",
    "    plt.show()"
   ]
  },
  {
   "cell_type": "code",
   "execution_count": 28,
   "metadata": {},
   "outputs": [
    {
     "data": {
      "image/png": "[encoded data removed]",
      "text/plain": [
       "<Figure size 640x480 with 1 Axes>"
      ]
     },
     "metadata": {},
     "output_type": "display_data"
    }
   ],
   "source": [
    "arg_selection, df_edges = analyze_a_topic(df_topics, show_data=False)\n",
    "draw_graph(arg_selection, df_edges)"
   ]
  },
  {
   "cell_type": "markdown",
   "metadata": {},
   "source": [
    "The plot shows that review #8, #11, #14 and #15 are supportive, while the others are defeated. In the `arg_selection` table these four reviews indeed had the highest level of consistence. Interestingly the score of #15 (negative) disagrees with those of #8, #11 and #14 (positive). The three nodes attack and defeat the single negative node with a lower coherence (#12) while #15 does the same with all positive nodes with a lower coherence. There are no nodes with a neutral score in this topic. "
   ]
  },
  {
   "cell_type": "code",
   "execution_count": null,
   "metadata": {},
   "outputs": [],
   "source": []
  }
 ],
 "metadata": {
  "kernelspec": {
   "display_name": "Python 3 (ipykernel)",
   "language": "python",
   "name": "python3"
  },
  "language_info": {
   "codemirror_mode": {
    "name": "ipython",
    "version": 3
   },
   "file_extension": ".py",
   "mimetype": "text/x-python",
   "name": "python",
   "nbconvert_exporter": "python",
   "pygments_lexer": "ipython3",
   "version": "3.9.13"
  }
 },
 "nbformat": 4,
 "nbformat_minor": 4
}
