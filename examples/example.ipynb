{
 "cells": [
  {
   "cell_type": "markdown",
   "metadata": {},
   "source": [
    "# Example: Review Labeling by Topic\n",
    "\n",
    "In this notebook, we will use a subset of the Amazon Product Review data to demonstrate the usage of this work for labeling arguments. The problem to be addressed here is determining the credibility (reliable/unreliable) of reviews that evaluate a specific aspect of the product (i.e. size of shoes) and being able to provide reasoning for the results. The dataset can be found [here](https://github.com/EyeofBeholder-NLeSC/orange3-argument/blob/doc/examples/example_dataset.json)."
   ]
  },
  {
   "cell_type": "code",
   "execution_count": 38,
   "metadata": {},
   "outputs": [],
   "source": [
    "import networkx as nx\n",
    "import matplotlib.pyplot as plt\n",
    "from IPython.display import display, HTML\n",
    "from orangearg.argument.miner import reader, chunker, processor, miner\n",
    "\n",
    "fpath = \"./example_dataset.json\""
   ]
  },
  {
   "cell_type": "markdown",
   "metadata": {},
   "source": [
    "## 1. Read data"
   ]
  },
  {
   "cell_type": "code",
   "execution_count": 2,
   "metadata": {
    "jupyter": {
     "source_hidden": true
    }
   },
   "outputs": [],
   "source": [
    "def remove_rows_with_na(df_arguments):\n",
    "    return df_arguments.dropna().reset_index(drop=True)"
   ]
  },
  {
   "cell_type": "code",
   "execution_count": 3,
   "metadata": {
    "jupyter": {
     "source_hidden": true
    }
   },
   "outputs": [],
   "source": [
    "def read_df_arguments(fpath):\n",
    "    df_arguments = reader.read_json_file(fpath=fpath)\n",
    "    return remove_rows_with_na(df_arguments)"
   ]
  },
  {
   "cell_type": "markdown",
   "metadata": {},
   "source": [
    "The results of reading the data file are as follows. It can be seen that this dataset contains two aspects of information, namely the text of the reviews (`reviewText`) and the rating evaluations provided by the purchasers (`overall`, ranging from 1 to 5 stars)."
   ]
  },
  {
   "cell_type": "code",
   "execution_count": 4,
   "metadata": {},
   "outputs": [
    {
     "data": {
      "text/html": [
       "<div>\n",
       "<style scoped>\n",
       "    .dataframe tbody tr th:only-of-type {\n",
       "        vertical-align: middle;\n",
       "    }\n",
       "\n",
       "    .dataframe tbody tr th {\n",
       "        vertical-align: top;\n",
       "    }\n",
       "\n",
       "    .dataframe thead th {\n",
       "        text-align: right;\n",
       "    }\n",
       "</style>\n",
       "<table border=\"1\" class=\"dataframe\">\n",
       "  <thead>\n",
       "    <tr style=\"text-align: right;\">\n",
       "      <th></th>\n",
       "      <th>reviewText</th>\n",
       "      <th>overall</th>\n",
       "    </tr>\n",
       "  </thead>\n",
       "  <tbody>\n",
       "    <tr>\n",
       "      <th>0</th>\n",
       "      <td>I always get a half size up in my tennis shoes...</td>\n",
       "      <td>3</td>\n",
       "    </tr>\n",
       "    <tr>\n",
       "      <th>1</th>\n",
       "      <td>Put them on and walked 3 hours with no problem...</td>\n",
       "      <td>5</td>\n",
       "    </tr>\n",
       "    <tr>\n",
       "      <th>2</th>\n",
       "      <td>excelente</td>\n",
       "      <td>5</td>\n",
       "    </tr>\n",
       "    <tr>\n",
       "      <th>3</th>\n",
       "      <td>The shoes fit well in the arch area. They are ...</td>\n",
       "      <td>4</td>\n",
       "    </tr>\n",
       "    <tr>\n",
       "      <th>4</th>\n",
       "      <td>Tried them on in a store before buying online ...</td>\n",
       "      <td>5</td>\n",
       "    </tr>\n",
       "    <tr>\n",
       "      <th>...</th>\n",
       "      <td>...</td>\n",
       "      <td>...</td>\n",
       "    </tr>\n",
       "    <tr>\n",
       "      <th>365</th>\n",
       "      <td>Favorite Nike shoe ever! The flex sole is exce...</td>\n",
       "      <td>5</td>\n",
       "    </tr>\n",
       "    <tr>\n",
       "      <th>366</th>\n",
       "      <td>I wear these everyday to work, the gym, etc.</td>\n",
       "      <td>5</td>\n",
       "    </tr>\n",
       "    <tr>\n",
       "      <th>367</th>\n",
       "      <td>Love these shoes! Great fit, very light weight.</td>\n",
       "      <td>5</td>\n",
       "    </tr>\n",
       "    <tr>\n",
       "      <th>368</th>\n",
       "      <td>Super comfortable and fit my small feet perfec...</td>\n",
       "      <td>5</td>\n",
       "    </tr>\n",
       "    <tr>\n",
       "      <th>369</th>\n",
       "      <td>Love these shoes!</td>\n",
       "      <td>5</td>\n",
       "    </tr>\n",
       "  </tbody>\n",
       "</table>\n",
       "<p>370 rows × 2 columns</p>\n",
       "</div>"
      ],
      "text/plain": [
       "                                            reviewText  overall\n",
       "0    I always get a half size up in my tennis shoes...        3\n",
       "1    Put them on and walked 3 hours with no problem...        5\n",
       "2                                            excelente        5\n",
       "3    The shoes fit well in the arch area. They are ...        4\n",
       "4    Tried them on in a store before buying online ...        5\n",
       "..                                                 ...      ...\n",
       "365  Favorite Nike shoe ever! The flex sole is exce...        5\n",
       "366       I wear these everyday to work, the gym, etc.        5\n",
       "367    Love these shoes! Great fit, very light weight.        5\n",
       "368  Super comfortable and fit my small feet perfec...        5\n",
       "369                                  Love these shoes!        5\n",
       "\n",
       "[370 rows x 2 columns]"
      ]
     },
     "execution_count": 4,
     "metadata": {},
     "output_type": "execute_result"
    }
   ],
   "source": [
    "df_arguments = read_df_arguments(fpath)\n",
    "df_arguments"
   ]
  },
  {
   "cell_type": "markdown",
   "metadata": {},
   "source": [
    "## 2. Language analysis\n",
    "\n",
    "The language analysis divides reviews in sequences of words which express complete meanings. These sequences are called chunks. The reason for doing this is to identify from which different perspectives reviews provide their evaluations, in preparation for the subsequent review labeling process. "
   ]
  },
  {
   "cell_type": "code",
   "execution_count": 5,
   "metadata": {
    "jupyter": {
     "source_hidden": true
    }
   },
   "outputs": [],
   "source": [
    "def split_reviews_into_chunks(arguments):\n",
    "    return chunker.get_chunk(docs=arguments)"
   ]
  },
  {
   "cell_type": "code",
   "execution_count": 6,
   "metadata": {
    "jupyter": {
     "source_hidden": true
    }
   },
   "outputs": [],
   "source": [
    "def compute_polarity_score_of_chunks(chunks):\n",
    "    return chunker.get_chunk_polarity_score(chunks=chunks)"
   ]
  },
  {
   "cell_type": "code",
   "execution_count": 7,
   "metadata": {
    "jupyter": {
     "source_hidden": true
    }
   },
   "outputs": [],
   "source": [
    "def compute_topics_of_chunks(chunks):\n",
    "    return chunker.get_chunk_topic(chunks=chunks)"
   ]
  },
  {
   "cell_type": "code",
   "execution_count": 8,
   "metadata": {
    "jupyter": {
     "source_hidden": true
    }
   },
   "outputs": [],
   "source": [
    "def compute_importance_of_chunks(chunk_arg_ids, chunk_embeds):\n",
    "    return chunker.get_chunk_rank(arg_ids=chunk_arg_ids, embeds=chunk_embeds)"
   ]
  },
  {
   "cell_type": "code",
   "execution_count": 9,
   "metadata": {
    "jupyter": {
     "source_hidden": true
    }
   },
   "outputs": [],
   "source": [
    "def perform_language_analysis(df_arguments):\n",
    "    arguments = df_arguments[\"reviewText\"]\n",
    "    arg_scores = df_arguments[\"overall\"]\n",
    "    chunk_arg_ids, chunks = split_reviews_into_chunks(arguments)\n",
    "    chunk_p_scores = compute_polarity_score_of_chunks(chunks)\n",
    "    chunk_topics, chunk_embeds, df_topics = compute_topics_of_chunks(chunks)\n",
    "    chunk_ranks = compute_importance_of_chunks(chunk_arg_ids, chunk_embeds)\n",
    "    return chunker.get_chunk_table(\n",
    "               arg_ids=chunk_arg_ids, \n",
    "               chunks=chunks, \n",
    "               p_scores=chunk_p_scores, \n",
    "               topics=chunk_topics, \n",
    "               ranks=chunk_ranks\n",
    "            ), df_topics"
   ]
  },
  {
   "cell_type": "code",
   "execution_count": 45,
   "metadata": {
    "jupyter": {
     "source_hidden": true
    }
   },
   "outputs": [],
   "source": [
    "def draw_distribution(values, bins, range, title):\n",
    "    plt.hist(values, bins=bins, range=range)\n",
    "    plt.title(title)"
   ]
  },
  {
   "cell_type": "code",
   "execution_count": 10,
   "metadata": {},
   "outputs": [
    {
     "name": "stderr",
     "output_type": "stream",
     "text": [
      "2024-02-09 14:19:57,577 - BERTopic - WARNING: Using a custom list of topic assignments may lead to errors if topic reduction techniques are used afterwards. Make sure that manually assigning topics is the last step in the pipeline.Note that topic embeddings will also be created through weightedc-TF-IDF embeddings instead of centroid embeddings.\n"
     ]
    }
   ],
   "source": [
    "df_chunks, df_topics = perform_language_analysis(df_arguments)"
   ]
  },
  {
   "cell_type": "markdown",
   "metadata": {},
   "source": [
    "Some explanation of `df_chunks`:\n",
    "\n",
    "* `argument_id`: the index of the argument/review the chunk is coming from.\n",
    "* `polarity_score`: the sentiment polarity score of a chunk, in range of [-1, 1], where 0 signifies neutrality, positive values indicate positivity, and negative values denote negativity. \n",
    "* `topic`: the index of a topic in the `df_topics` table below.\n",
    "* `rank`: importance of a chunk within the argument it comes from, in range of [0, 1]. This is computed as the pagerank of chunks based on the similarity network of chunks. Therefore, the sum of ranks from chunks belonging to the same argument is equal to 1."
   ]
  },
  {
   "cell_type": "code",
   "execution_count": 11,
   "metadata": {},
   "outputs": [
    {
     "data": {
      "text/html": [
       "<div>\n",
       "<style scoped>\n",
       "    .dataframe tbody tr th:only-of-type {\n",
       "        vertical-align: middle;\n",
       "    }\n",
       "\n",
       "    .dataframe tbody tr th {\n",
       "        vertical-align: top;\n",
       "    }\n",
       "\n",
       "    .dataframe thead th {\n",
       "        text-align: right;\n",
       "    }\n",
       "</style>\n",
       "<table border=\"1\" class=\"dataframe\">\n",
       "  <thead>\n",
       "    <tr style=\"text-align: right;\">\n",
       "      <th></th>\n",
       "      <th>argument_id</th>\n",
       "      <th>chunk</th>\n",
       "      <th>polarity_score</th>\n",
       "      <th>topic</th>\n",
       "      <th>rank</th>\n",
       "    </tr>\n",
       "  </thead>\n",
       "  <tbody>\n",
       "    <tr>\n",
       "      <th>0</th>\n",
       "      <td>0</td>\n",
       "      <td>I always get a half size up in my tennis shoes .</td>\n",
       "      <td>-0.166667</td>\n",
       "      <td>3</td>\n",
       "      <td>0.500000</td>\n",
       "    </tr>\n",
       "    <tr>\n",
       "      <th>1</th>\n",
       "      <td>0</td>\n",
       "      <td>For some reason these feel to big in the heel ...</td>\n",
       "      <td>-0.050000</td>\n",
       "      <td>10</td>\n",
       "      <td>0.500000</td>\n",
       "    </tr>\n",
       "    <tr>\n",
       "      <th>2</th>\n",
       "      <td>1</td>\n",
       "      <td>walked 3 hours with no problem</td>\n",
       "      <td>0.000000</td>\n",
       "      <td>14</td>\n",
       "      <td>0.250680</td>\n",
       "    </tr>\n",
       "    <tr>\n",
       "      <th>3</th>\n",
       "      <td>1</td>\n",
       "      <td>Put them on and !</td>\n",
       "      <td>0.000000</td>\n",
       "      <td>18</td>\n",
       "      <td>0.254839</td>\n",
       "    </tr>\n",
       "    <tr>\n",
       "      <th>4</th>\n",
       "      <td>1</td>\n",
       "      <td>Love them !</td>\n",
       "      <td>0.625000</td>\n",
       "      <td>2</td>\n",
       "      <td>0.239133</td>\n",
       "    </tr>\n",
       "  </tbody>\n",
       "</table>\n",
       "</div>"
      ],
      "text/plain": [
       "   argument_id                                              chunk  \\\n",
       "0            0   I always get a half size up in my tennis shoes .   \n",
       "1            0  For some reason these feel to big in the heel ...   \n",
       "2            1                     walked 3 hours with no problem   \n",
       "3            1                                  Put them on and !   \n",
       "4            1                                        Love them !   \n",
       "\n",
       "   polarity_score  topic      rank  \n",
       "0       -0.166667      3  0.500000  \n",
       "1       -0.050000     10  0.500000  \n",
       "2        0.000000     14  0.250680  \n",
       "3        0.000000     18  0.254839  \n",
       "4        0.625000      2  0.239133  "
      ]
     },
     "execution_count": 11,
     "metadata": {},
     "output_type": "execute_result"
    }
   ],
   "source": [
    "df_chunks.head()"
   ]
  },
  {
   "cell_type": "code",
   "execution_count": 65,
   "metadata": {},
   "outputs": [
    {
     "name": "stdout",
     "output_type": "stream",
     "text": [
      "number of different topics: 26\n"
     ]
    }
   ],
   "source": [
    "print(f\"number of different topics: {len(set(df_chunks['topic']))}\")"
   ]
  },
  {
   "cell_type": "code",
   "execution_count": 71,
   "metadata": {},
   "outputs": [
    {
     "data": {
      "text/html": [
       "<div>\n",
       "<style scoped>\n",
       "    .dataframe tbody tr th:only-of-type {\n",
       "        vertical-align: middle;\n",
       "    }\n",
       "\n",
       "    .dataframe tbody tr th {\n",
       "        vertical-align: top;\n",
       "    }\n",
       "\n",
       "    .dataframe thead th {\n",
       "        text-align: right;\n",
       "    }\n",
       "</style>\n",
       "<table border=\"1\" class=\"dataframe\">\n",
       "  <thead>\n",
       "    <tr style=\"text-align: right;\">\n",
       "      <th></th>\n",
       "      <th>topic</th>\n",
       "      <th>argument_id</th>\n",
       "    </tr>\n",
       "  </thead>\n",
       "  <tbody>\n",
       "    <tr>\n",
       "      <th>0</th>\n",
       "      <td>3</td>\n",
       "      <td>0</td>\n",
       "    </tr>\n",
       "    <tr>\n",
       "      <th>1</th>\n",
       "      <td>10</td>\n",
       "      <td>0</td>\n",
       "    </tr>\n",
       "    <tr>\n",
       "      <th>2</th>\n",
       "      <td>14</td>\n",
       "      <td>1</td>\n",
       "    </tr>\n",
       "    <tr>\n",
       "      <th>3</th>\n",
       "      <td>18</td>\n",
       "      <td>1</td>\n",
       "    </tr>\n",
       "    <tr>\n",
       "      <th>4</th>\n",
       "      <td>2</td>\n",
       "      <td>1</td>\n",
       "    </tr>\n",
       "    <tr>\n",
       "      <th>5</th>\n",
       "      <td>6</td>\n",
       "      <td>1</td>\n",
       "    </tr>\n",
       "    <tr>\n",
       "      <th>6</th>\n",
       "      <td>5</td>\n",
       "      <td>2</td>\n",
       "    </tr>\n",
       "    <tr>\n",
       "      <th>7</th>\n",
       "      <td>0</td>\n",
       "      <td>3</td>\n",
       "    </tr>\n",
       "    <tr>\n",
       "      <th>8</th>\n",
       "      <td>10</td>\n",
       "      <td>3</td>\n",
       "    </tr>\n",
       "    <tr>\n",
       "      <th>9</th>\n",
       "      <td>10</td>\n",
       "      <td>3</td>\n",
       "    </tr>\n",
       "  </tbody>\n",
       "</table>\n",
       "</div>"
      ],
      "text/plain": [
       "   topic  argument_id\n",
       "0      3            0\n",
       "1     10            0\n",
       "2     14            1\n",
       "3     18            1\n",
       "4      2            1\n",
       "5      6            1\n",
       "6      5            2\n",
       "7      0            3\n",
       "8     10            3\n",
       "9     10            3"
      ]
     },
     "execution_count": 71,
     "metadata": {},
     "output_type": "execute_result"
    }
   ],
   "source": [
    "df_chunks[['topic', 'argument_id']][:10]"
   ]
  },
  {
   "cell_type": "markdown",
   "metadata": {},
   "source": [
    "Explanation of `df_topics`:\n",
    "\n",
    "* `topic`: the index of a topic\n",
    "* `count`: the number of chunks in a topic\n",
    "* `keywords`: the top keywords of a topic\n",
    "* `name`: a short name of the topic"
   ]
  },
  {
   "cell_type": "code",
   "execution_count": 12,
   "metadata": {},
   "outputs": [
    {
     "data": {
      "text/html": [
       "<div>\n",
       "<style scoped>\n",
       "    .dataframe tbody tr th:only-of-type {\n",
       "        vertical-align: middle;\n",
       "    }\n",
       "\n",
       "    .dataframe tbody tr th {\n",
       "        vertical-align: top;\n",
       "    }\n",
       "\n",
       "    .dataframe thead th {\n",
       "        text-align: right;\n",
       "    }\n",
       "</style>\n",
       "<table border=\"1\" class=\"dataframe\">\n",
       "  <thead>\n",
       "    <tr style=\"text-align: right;\">\n",
       "      <th></th>\n",
       "      <th>topic</th>\n",
       "      <th>count</th>\n",
       "      <th>name</th>\n",
       "      <th>keywords</th>\n",
       "    </tr>\n",
       "  </thead>\n",
       "  <tbody>\n",
       "    <tr>\n",
       "      <th>0</th>\n",
       "      <td>0</td>\n",
       "      <td>201</td>\n",
       "      <td>0_my_shoes_the_feet</td>\n",
       "      <td>(my, shoes, the, feet, of, for, shoe, these, c...</td>\n",
       "    </tr>\n",
       "    <tr>\n",
       "      <th>1</th>\n",
       "      <td>1</td>\n",
       "      <td>98</td>\n",
       "      <td>1_fit_perfect_true_perfectly</td>\n",
       "      <td>(fit, perfect, true, perfectly, fits, expected...</td>\n",
       "    </tr>\n",
       "    <tr>\n",
       "      <th>2</th>\n",
       "      <td>2</td>\n",
       "      <td>79</td>\n",
       "      <td>2_love_them_they_are</td>\n",
       "      <td>(love, them, they, are, cute, these, really, p...</td>\n",
       "    </tr>\n",
       "    <tr>\n",
       "      <th>3</th>\n",
       "      <td>3</td>\n",
       "      <td>60</td>\n",
       "      <td>3_size_ordered_half_order</td>\n",
       "      <td>(size, ordered, half, order, always, an, wear,...</td>\n",
       "    </tr>\n",
       "    <tr>\n",
       "      <th>4</th>\n",
       "      <td>4</td>\n",
       "      <td>63</td>\n",
       "      <td>4_they_are_comfortable_and</td>\n",
       "      <td>(they, are, comfortable, and, very, light, com...</td>\n",
       "    </tr>\n",
       "  </tbody>\n",
       "</table>\n",
       "</div>"
      ],
      "text/plain": [
       "   topic  count                          name  \\\n",
       "0      0    201           0_my_shoes_the_feet   \n",
       "1      1     98  1_fit_perfect_true_perfectly   \n",
       "2      2     79          2_love_them_they_are   \n",
       "3      3     60     3_size_ordered_half_order   \n",
       "4      4     63    4_they_are_comfortable_and   \n",
       "\n",
       "                                            keywords  \n",
       "0  (my, shoes, the, feet, of, for, shoe, these, c...  \n",
       "1  (fit, perfect, true, perfectly, fits, expected...  \n",
       "2  (love, them, they, are, cute, these, really, p...  \n",
       "3  (size, ordered, half, order, always, an, wear,...  \n",
       "4  (they, are, comfortable, and, very, light, com...  "
      ]
     },
     "execution_count": 12,
     "metadata": {},
     "output_type": "execute_result"
    }
   ],
   "source": [
    "df_topics.head()"
   ]
  },
  {
   "cell_type": "code",
   "execution_count": 49,
   "metadata": {},
   "outputs": [
    {
     "data": {
      "image/png": "[encoded data removed]",
      "text/plain": [
       "<Figure size 640x480 with 1 Axes>"
      ]
     },
     "metadata": {},
     "output_type": "display_data"
    }
   ],
   "source": [
    "draw_distribution(list(df_chunks[\"polarity_score\"]), bins=11, range=(-1.1, 1.1), title=\"distribution of polarity scores of chunks\")"
   ]
  },
  {
   "cell_type": "markdown",
   "metadata": {},
   "source": [
    "## 3. Merge related chunks\n",
    "\n",
    "By merging the chunks back into reviews and performing the corresponding computations, we will obtain relevant information at the review level, including the topics covered in each review, the sentiment of the review, and its consistency with the overall score. This information will be further used for labeling reviews under different topics."
   ]
  },
  {
   "cell_type": "code",
   "execution_count": 13,
   "metadata": {
    "jupyter": {
     "source_hidden": true
    }
   },
   "outputs": [],
   "source": [
    "def compute_topics_of_arguments(chunk_arg_ids, chunk_topics):\n",
    "    return processor.get_argument_topics(arg_ids=chunk_arg_ids, topics=chunk_topics)"
   ]
  },
  {
   "cell_type": "code",
   "execution_count": 14,
   "metadata": {
    "jupyter": {
     "source_hidden": true
    }
   },
   "outputs": [],
   "source": [
    "def compute_sentiment_of_arguments(chunk_arg_ids, chunk_ranks, chunk_p_scores):\n",
    "    return processor.get_argument_sentiment(arg_ids=chunk_arg_ids, ranks=chunk_ranks, p_scores=chunk_p_scores)"
   ]
  },
  {
   "cell_type": "code",
   "execution_count": 15,
   "metadata": {
    "jupyter": {
     "source_hidden": true
    }
   },
   "outputs": [],
   "source": [
    "def compute_the_coherence_between_the_sentiments_and_the_overall_of_arguments(arg_scores, arg_sentiments):\n",
    "    return processor.get_argument_coherence(scores=arg_scores, sentiments=arg_sentiments)"
   ]
  },
  {
   "cell_type": "code",
   "execution_count": 16,
   "metadata": {
    "jupyter": {
     "source_hidden": true
    }
   },
   "outputs": [],
   "source": [
    "COHERENCE_SCORE_BINS = [ 0.96, 0.88, 0.8, 0.7, 0.0 ]\n",
    "\n",
    "def bin_coherence_scores(arg_coherences, coherence_score_bins=COHERENCE_SCORE_BINS):\n",
    "    for index in range(0, len(arg_coherences)):\n",
    "        for threshold in coherence_score_bins:\n",
    "            if arg_coherences[index] >= threshold:\n",
    "                arg_coherences[index] = threshold\n",
    "                break\n",
    "    return arg_coherences"
   ]
  },
  {
   "cell_type": "code",
   "execution_count": 17,
   "metadata": {
    "jupyter": {
     "source_hidden": true
    }
   },
   "outputs": [],
   "source": [
    "def merge_related_chunks(df_chunks, df_arguments):\n",
    "    arg_scores = df_arguments[\"overall\"]\n",
    "    arg_topics = compute_topics_of_arguments(df_chunks[\"argument_id\"], df_chunks[\"topic\"])\n",
    "    arg_sentiments = compute_sentiment_of_arguments(df_chunks[\"argument_id\"], df_chunks[\"rank\"], df_chunks[\"polarity_score\"])\n",
    "    arg_coherences = compute_the_coherence_between_the_sentiments_and_the_overall_of_arguments(arg_scores, arg_sentiments)\n",
    "    arg_coherences = bin_coherence_scores(arg_coherences)\n",
    "    return processor.update_argument_table(\n",
    "               df_arguments=df_arguments, \n",
    "               topics=arg_topics, \n",
    "               sentiments=arg_sentiments, \n",
    "               coherences=arg_coherences\n",
    "           )"
   ]
  },
  {
   "cell_type": "markdown",
   "metadata": {},
   "source": [
    "Some columns are added to the original `df_arguments` dataframe, which are:\n",
    "\n",
    "* `topics`: the topics that an argument has mentioned.\n",
    "\n",
    "* `sentiment`: the sentiment score of an argument, in range of [0, 1], the higher the more positive.\n",
    "\n",
    "* `coherence`: the coherence between the `sentiment` and `overall`, in range of [0, 1], the higher the more coherent."
   ]
  },
  {
   "cell_type": "code",
   "execution_count": 18,
   "metadata": {},
   "outputs": [
    {
     "data": {
      "text/html": [
       "<div>\n",
       "<style scoped>\n",
       "    .dataframe tbody tr th:only-of-type {\n",
       "        vertical-align: middle;\n",
       "    }\n",
       "\n",
       "    .dataframe tbody tr th {\n",
       "        vertical-align: top;\n",
       "    }\n",
       "\n",
       "    .dataframe thead th {\n",
       "        text-align: right;\n",
       "    }\n",
       "</style>\n",
       "<table border=\"1\" class=\"dataframe\">\n",
       "  <thead>\n",
       "    <tr style=\"text-align: right;\">\n",
       "      <th></th>\n",
       "      <th>reviewText</th>\n",
       "      <th>overall</th>\n",
       "      <th>topics</th>\n",
       "      <th>sentiment</th>\n",
       "      <th>coherence</th>\n",
       "    </tr>\n",
       "  </thead>\n",
       "  <tbody>\n",
       "    <tr>\n",
       "      <th>0</th>\n",
       "      <td>I always get a half size up in my tennis shoes...</td>\n",
       "      <td>3</td>\n",
       "      <td>(3, 10)</td>\n",
       "      <td>0.445833</td>\n",
       "      <td>0.96</td>\n",
       "    </tr>\n",
       "    <tr>\n",
       "      <th>1</th>\n",
       "      <td>Put them on and walked 3 hours with no problem...</td>\n",
       "      <td>5</td>\n",
       "      <td>(14, 18, 2, 6)</td>\n",
       "      <td>0.625799</td>\n",
       "      <td>0.70</td>\n",
       "    </tr>\n",
       "    <tr>\n",
       "      <th>2</th>\n",
       "      <td>excelente</td>\n",
       "      <td>5</td>\n",
       "      <td>(5,)</td>\n",
       "      <td>0.500000</td>\n",
       "      <td>0.00</td>\n",
       "    </tr>\n",
       "    <tr>\n",
       "      <th>3</th>\n",
       "      <td>The shoes fit well in the arch area. They are ...</td>\n",
       "      <td>4</td>\n",
       "      <td>(0, 10, 10, 21)</td>\n",
       "      <td>0.525731</td>\n",
       "      <td>0.88</td>\n",
       "    </tr>\n",
       "    <tr>\n",
       "      <th>4</th>\n",
       "      <td>Tried them on in a store before buying online ...</td>\n",
       "      <td>5</td>\n",
       "      <td>(1, 0, 4, 0, 5)</td>\n",
       "      <td>0.712653</td>\n",
       "      <td>0.80</td>\n",
       "    </tr>\n",
       "  </tbody>\n",
       "</table>\n",
       "</div>"
      ],
      "text/plain": [
       "                                          reviewText  overall  \\\n",
       "0  I always get a half size up in my tennis shoes...        3   \n",
       "1  Put them on and walked 3 hours with no problem...        5   \n",
       "2                                          excelente        5   \n",
       "3  The shoes fit well in the arch area. They are ...        4   \n",
       "4  Tried them on in a store before buying online ...        5   \n",
       "\n",
       "            topics  sentiment  coherence  \n",
       "0          (3, 10)   0.445833       0.96  \n",
       "1   (14, 18, 2, 6)   0.625799       0.70  \n",
       "2             (5,)   0.500000       0.00  \n",
       "3  (0, 10, 10, 21)   0.525731       0.88  \n",
       "4  (1, 0, 4, 0, 5)   0.712653       0.80  "
      ]
     },
     "execution_count": 18,
     "metadata": {},
     "output_type": "execute_result"
    }
   ],
   "source": [
    "df_arguments_processed = merge_related_chunks(df_chunks, df_arguments)\n",
    "df_arguments_processed.head()"
   ]
  },
  {
   "cell_type": "markdown",
   "metadata": {},
   "source": [
    "It is nice to have a text coherence score to evaluate the quality of the reviews. The coherence score is defined here as the absolute difference between the quality of the product (as perceived by the writer of the review) and the sentiment of the review, computed with an algorithm. So a negatively-worded positive review will receive a low coherence score, and a negatively-worded negative review will receive a high coherence score. \n",
    "\n",
    "However, sentiment scores are notoriuosly hard to compute automatically. If the sentiment scores would be more or less random, there would be a bias towards medium-rated reviews getting higher coherence scores (because their normalized equivalents are close to the average sentiment score of 0.67) while positive and negative reviews would get lower coherence scores. This is exactly what we observe happening:  "
   ]
  },
  {
   "cell_type": "code",
   "execution_count": 19,
   "metadata": {
    "jupyter": {
     "source_hidden": true
    }
   },
   "outputs": [],
   "source": [
    "def compute_average_sentiment_score(df_arguments_processed):\n",
    "    return sum(df_arguments_processed[\"sentiment\"]) / len(df_arguments_processed)"
   ]
  },
  {
   "cell_type": "code",
   "execution_count": 20,
   "metadata": {
    "jupyter": {
     "source_hidden": true
    }
   },
   "outputs": [],
   "source": [
    "def compute_average_coherence_score_per_overall_value(df_arguments_processed):\n",
    "    coherence_scores = {}\n",
    "    for index, row in df_arguments_processed.iterrows():\n",
    "        if row[\"overall\"] not in coherence_scores:\n",
    "            coherence_scores[row[\"overall\"]] = []\n",
    "        coherence_scores[row[\"overall\"]].append(row[\"coherence\"])\n",
    "    return { coherence_score: sum(coherence_scores[coherence_score]) / len(coherence_scores[coherence_score]) \n",
    "             for coherence_score in sorted(coherence_scores.keys()) }"
   ]
  },
  {
   "cell_type": "code",
   "execution_count": 21,
   "metadata": {},
   "outputs": [
    {
     "data": {
      "text/plain": [
       "0.6685476169647183"
      ]
     },
     "execution_count": 21,
     "metadata": {},
     "output_type": "execute_result"
    }
   ],
   "source": [
    "compute_average_sentiment_score(df_arguments_processed)"
   ]
  },
  {
   "cell_type": "code",
   "execution_count": 22,
   "metadata": {},
   "outputs": [
    {
     "data": {
      "text/plain": [
       "{1: 0.16923076923076924,\n",
       " 2: 0.7755555555555556,\n",
       " 3: 0.9278947368421055,\n",
       " 4: 0.9111111111111115,\n",
       " 5: 0.6108593749999992}"
      ]
     },
     "execution_count": 22,
     "metadata": {},
     "output_type": "execute_result"
    }
   ],
   "source": [
    "compute_average_coherence_score_per_overall_value(df_arguments_processed)"
   ]
  },
  {
   "cell_type": "code",
   "execution_count": 62,
   "metadata": {},
   "outputs": [
    {
     "data": {
      "text/html": [
       "<div>\n",
       "<style scoped>\n",
       "    .dataframe tbody tr th:only-of-type {\n",
       "        vertical-align: middle;\n",
       "    }\n",
       "\n",
       "    .dataframe tbody tr th {\n",
       "        vertical-align: top;\n",
       "    }\n",
       "\n",
       "    .dataframe thead th {\n",
       "        text-align: right;\n",
       "    }\n",
       "</style>\n",
       "<table border=\"1\" class=\"dataframe\">\n",
       "  <thead>\n",
       "    <tr style=\"text-align: right;\">\n",
       "      <th></th>\n",
       "      <th>reviewText</th>\n",
       "      <th>overall</th>\n",
       "      <th>topics</th>\n",
       "      <th>sentiment</th>\n",
       "      <th>coherence</th>\n",
       "    </tr>\n",
       "  </thead>\n",
       "  <tbody>\n",
       "    <tr>\n",
       "      <th>1</th>\n",
       "      <td>Put them on and walked 3 hours with no problem...</td>\n",
       "      <td>5</td>\n",
       "      <td>(14, 18, 2, 6)</td>\n",
       "      <td>0.625799</td>\n",
       "      <td>0.70</td>\n",
       "    </tr>\n",
       "    <tr>\n",
       "      <th>2</th>\n",
       "      <td>excelente</td>\n",
       "      <td>5</td>\n",
       "      <td>(5,)</td>\n",
       "      <td>0.500000</td>\n",
       "      <td>0.00</td>\n",
       "    </tr>\n",
       "    <tr>\n",
       "      <th>4</th>\n",
       "      <td>Tried them on in a store before buying online ...</td>\n",
       "      <td>5</td>\n",
       "      <td>(1, 0, 4, 0, 5)</td>\n",
       "      <td>0.712653</td>\n",
       "      <td>0.80</td>\n",
       "    </tr>\n",
       "    <tr>\n",
       "      <th>5</th>\n",
       "      <td>I recommend that!</td>\n",
       "      <td>5</td>\n",
       "      <td>(20,)</td>\n",
       "      <td>0.500000</td>\n",
       "      <td>0.00</td>\n",
       "    </tr>\n",
       "    <tr>\n",
       "      <th>6</th>\n",
       "      <td>My son likes these, and this is the 2nd pair h...</td>\n",
       "      <td>5</td>\n",
       "      <td>(17, 11)</td>\n",
       "      <td>0.500000</td>\n",
       "      <td>0.00</td>\n",
       "    </tr>\n",
       "    <tr>\n",
       "      <th>...</th>\n",
       "      <td>...</td>\n",
       "      <td>...</td>\n",
       "      <td>...</td>\n",
       "      <td>...</td>\n",
       "      <td>...</td>\n",
       "    </tr>\n",
       "    <tr>\n",
       "      <th>365</th>\n",
       "      <td>Favorite Nike shoe ever! The flex sole is exce...</td>\n",
       "      <td>5</td>\n",
       "      <td>(9, 0, 0, 0, 18, 8, 15, 20)</td>\n",
       "      <td>0.597438</td>\n",
       "      <td>0.00</td>\n",
       "    </tr>\n",
       "    <tr>\n",
       "      <th>366</th>\n",
       "      <td>I wear these everyday to work, the gym, etc.</td>\n",
       "      <td>5</td>\n",
       "      <td>(18,)</td>\n",
       "      <td>0.400000</td>\n",
       "      <td>0.00</td>\n",
       "    </tr>\n",
       "    <tr>\n",
       "      <th>367</th>\n",
       "      <td>Love these shoes! Great fit, very light weight.</td>\n",
       "      <td>5</td>\n",
       "      <td>(23, 1)</td>\n",
       "      <td>0.799583</td>\n",
       "      <td>0.88</td>\n",
       "    </tr>\n",
       "    <tr>\n",
       "      <th>368</th>\n",
       "      <td>Super comfortable and fit my small feet perfec...</td>\n",
       "      <td>5</td>\n",
       "      <td>(1, 8, 0, 4, 13, 0, 19, 17)</td>\n",
       "      <td>0.596514</td>\n",
       "      <td>0.00</td>\n",
       "    </tr>\n",
       "    <tr>\n",
       "      <th>369</th>\n",
       "      <td>Love these shoes!</td>\n",
       "      <td>5</td>\n",
       "      <td>(23,)</td>\n",
       "      <td>0.812500</td>\n",
       "      <td>0.88</td>\n",
       "    </tr>\n",
       "  </tbody>\n",
       "</table>\n",
       "<p>256 rows × 5 columns</p>\n",
       "</div>"
      ],
      "text/plain": [
       "                                            reviewText  overall  \\\n",
       "1    Put them on and walked 3 hours with no problem...        5   \n",
       "2                                            excelente        5   \n",
       "4    Tried them on in a store before buying online ...        5   \n",
       "5                                    I recommend that!        5   \n",
       "6    My son likes these, and this is the 2nd pair h...        5   \n",
       "..                                                 ...      ...   \n",
       "365  Favorite Nike shoe ever! The flex sole is exce...        5   \n",
       "366       I wear these everyday to work, the gym, etc.        5   \n",
       "367    Love these shoes! Great fit, very light weight.        5   \n",
       "368  Super comfortable and fit my small feet perfec...        5   \n",
       "369                                  Love these shoes!        5   \n",
       "\n",
       "                          topics  sentiment  coherence  \n",
       "1                 (14, 18, 2, 6)   0.625799       0.70  \n",
       "2                           (5,)   0.500000       0.00  \n",
       "4                (1, 0, 4, 0, 5)   0.712653       0.80  \n",
       "5                          (20,)   0.500000       0.00  \n",
       "6                       (17, 11)   0.500000       0.00  \n",
       "..                           ...        ...        ...  \n",
       "365  (9, 0, 0, 0, 18, 8, 15, 20)   0.597438       0.00  \n",
       "366                        (18,)   0.400000       0.00  \n",
       "367                      (23, 1)   0.799583       0.88  \n",
       "368  (1, 8, 0, 4, 13, 0, 19, 17)   0.596514       0.00  \n",
       "369                        (23,)   0.812500       0.88  \n",
       "\n",
       "[256 rows x 5 columns]"
      ]
     },
     "execution_count": 62,
     "metadata": {},
     "output_type": "execute_result"
    }
   ],
   "source": [
    "df_arguments_processed[df_arguments_processed[\"overall\"] == 5]"
   ]
  },
  {
   "cell_type": "code",
   "execution_count": 48,
   "metadata": {},
   "outputs": [
    {
     "data": {
      "image/png": "[encoded data removed]",
      "text/plain": [
       "<Figure size 640x480 with 1 Axes>"
      ]
     },
     "metadata": {},
     "output_type": "display_data"
    }
   ],
   "source": [
    "draw_distribution(list(df_arguments_processed[\"sentiment\"]), bins=11, range=(-0.05, 1.05), title=\"distribution of sentiment scores per review\")"
   ]
  },
  {
   "cell_type": "markdown",
   "metadata": {},
   "source": [
    "## 4. Add review labels\n",
    "\n",
    "In this step, by looking at reviews under a specific topic, an attacking network of reviews are built, where nodes are reviews and edges are the attacks in between. Reviews are labeled based on that. \n",
    "\n",
    "These are the rules of generating the network:\n",
    "\n",
    "* Attacking edges exist only between reviews with different `overall` score (between positive (4,5) and negatative (1,2))\n",
    "* Attacking edges start from a review with higher coherence to a review with a lower coherence\n",
    "* Weight of edges are computed as difference of coherence of the vertices\n",
    "* A node is labeled as `supportive` (meaning reliable in our case),\n",
    "    * if no other nodes attack it, or\n",
    "    * if all attackers of this node are attacked by some other nodes\n",
    "* A node is labeled as `defeated` (meaning unreliable in our case), if it is not `supportive`  "
   ]
  },
  {
   "cell_type": "code",
   "execution_count": 51,
   "metadata": {
    "jupyter": {
     "source_hidden": true
    }
   },
   "outputs": [],
   "source": [
    "def select_interesting_topic(df_topics, show_data=True):\n",
    "    interesting_topic = len(df_topics.iloc[-1])\n",
    "    for index,row in df_topics.iterrows():\n",
    "        if \"recommend\" in row[\"keywords\"]:\n",
    "            interesting_topic = index\n",
    "            break\n",
    "    if show_data:\n",
    "        print(f\"The chosen topic is topic nr. {interesting_topic}:\")\n",
    "        display(HTML(df_topics[df_topics[\"topic\"] == interesting_topic].to_html()))\n",
    "    return interesting_topic"
   ]
  },
  {
   "cell_type": "code",
   "execution_count": 52,
   "metadata": {
    "jupyter": {
     "source_hidden": true
    }
   },
   "outputs": [],
   "source": [
    "def select_arguments_for_topic(topic, df_arguments_processed):\n",
    "    arg_selection = miner.select_by_topic(data=df_arguments_processed, topic=topic)\n",
    "    arg_selection = arg_selection.rename(columns={\n",
    "        \"reviewText\": \"argument\", \n",
    "        \"overall\": \"score\"\n",
    "    })  # rename columns for the following steps\n",
    "    return arg_selection"
   ]
  },
  {
   "cell_type": "code",
   "execution_count": 53,
   "metadata": {
    "jupyter": {
     "source_hidden": true
    }
   },
   "outputs": [],
   "source": [
    "def make_edges_for_attacking_network(arg_selection):\n",
    "    edges = miner.get_edges(data=arg_selection)\n",
    "    weights = miner.get_edge_weights(data=arg_selection, edges=edges)\n",
    "    df_edges = miner.get_edge_table(edges=edges, weights=weights)\n",
    "    df_edges = df_edges[df_edges[\"weight\"] != 0]\n",
    "    return df_edges"
   ]
  },
  {
   "cell_type": "code",
   "execution_count": 54,
   "metadata": {
    "jupyter": {
     "source_hidden": true
    }
   },
   "outputs": [],
   "source": [
    "NEUTRAL_SCORE = 3\n",
    "\n",
    "def remove_edges_from_to_neutrals(df_edges, arg_selection):\n",
    "    has_no_neutral_node = [ not (arg_selection.loc[row[\"source\"]][\"score\"] == NEUTRAL_SCORE or \n",
    "                                 arg_selection.loc[row[\"target\"]][\"score\"] == NEUTRAL_SCORE) \n",
    "                         for index, row in df_edges.iterrows() ]\n",
    "    return df_edges[has_no_neutral_node]"
   ]
  },
  {
   "cell_type": "code",
   "execution_count": 55,
   "metadata": {
    "jupyter": {
     "source_hidden": true
    }
   },
   "outputs": [],
   "source": [
    "def remove_edges_between_agreers(df_edges, arg_selection):\n",
    "    non_agreers = [ abs(arg_selection.loc[row[\"source\"]][\"score\"] - arg_selection.loc[row[\"target\"]][\"score\"]) > 1\n",
    "                    for index, row in df_edges.iterrows() ]\n",
    "    return df_edges[non_agreers]"
   ]
  },
  {
   "cell_type": "code",
   "execution_count": 56,
   "metadata": {
    "jupyter": {
     "source_hidden": true
    }
   },
   "outputs": [],
   "source": [
    "def add_review_labels(arg_selection, df_edges):\n",
    "    if len(df_edges) == 0:\n",
    "        arg_selection[\"labels\"] = len(arg_selection) * [\"supportive\"]\n",
    "    else:\n",
    "        labels = miner.get_node_labels(\n",
    "            indices=arg_selection.index.tolist(), \n",
    "            sources=df_edges[\"source\"].tolist(), \n",
    "            targets=df_edges[\"target\"].tolist()\n",
    "        )\n",
    "        arg_selection[\"labels\"] = labels #[0:len(arg_selection)]\n",
    "    return arg_selection"
   ]
  },
  {
   "cell_type": "code",
   "execution_count": 57,
   "metadata": {
    "jupyter": {
     "source_hidden": true
    }
   },
   "outputs": [],
   "source": [
    "def analyze_a_topic(df_topics, df_arguments_processed, topic=-1, show_data=True):\n",
    "    if topic < 0:\n",
    "        topic = select_interesting_topic(df_topics, show_data)\n",
    "    arg_selection = select_arguments_for_topic(topic, df_arguments_processed)\n",
    "    df_edges = make_edges_for_attacking_network(arg_selection)\n",
    "    df_edges = remove_edges_from_to_neutrals(df_edges, arg_selection)\n",
    "    df_edges = remove_edges_between_agreers(df_edges, arg_selection)\n",
    "    arg_selection = add_review_labels(arg_selection, df_edges)\n",
    "    if show_data:\n",
    "        display(HTML(arg_selection.sort_values([\"coherence\"], ascending=False).to_html()))\n",
    "    return arg_selection, df_edges"
   ]
  },
  {
   "cell_type": "code",
   "execution_count": 58,
   "metadata": {},
   "outputs": [
    {
     "name": "stdout",
     "output_type": "stream",
     "text": [
      "The chosen topic is topic nr. 20:\n"
     ]
    },
    {
     "data": {
      "text/html": [
       "<table border=\"1\" class=\"dataframe\">\n",
       "  <thead>\n",
       "    <tr style=\"text-align: right;\">\n",
       "      <th></th>\n",
       "      <th>topic</th>\n",
       "      <th>count</th>\n",
       "      <th>name</th>\n",
       "      <th>keywords</th>\n",
       "    </tr>\n",
       "  </thead>\n",
       "  <tbody>\n",
       "    <tr>\n",
       "      <th>20</th>\n",
       "      <td>20</td>\n",
       "      <td>17</td>\n",
       "      <td>20_recommend_highly_would_recommended</td>\n",
       "      <td>(recommend, highly, would, recommended, definitely, it, suggest, let, shot, reccomend)</td>\n",
       "    </tr>\n",
       "  </tbody>\n",
       "</table>"
      ],
      "text/plain": [
       "<IPython.core.display.HTML object>"
      ]
     },
     "metadata": {},
     "output_type": "display_data"
    },
    {
     "data": {
      "text/html": [
       "<table border=\"1\" class=\"dataframe\">\n",
       "  <thead>\n",
       "    <tr style=\"text-align: right;\">\n",
       "      <th></th>\n",
       "      <th>argument</th>\n",
       "      <th>score</th>\n",
       "      <th>topics</th>\n",
       "      <th>sentiment</th>\n",
       "      <th>coherence</th>\n",
       "      <th>argument_id</th>\n",
       "      <th>labels</th>\n",
       "    </tr>\n",
       "  </thead>\n",
       "  <tbody>\n",
       "    <tr>\n",
       "      <th>8</th>\n",
       "      <td>Super comfy, true Size , I use them for boot Camp,  cross fit and they are great , absolutely recommended it.</td>\n",
       "      <td>5</td>\n",
       "      <td>(4, 20, 2)</td>\n",
       "      <td>0.712275</td>\n",
       "      <td>0.8</td>\n",
       "      <td>167</td>\n",
       "      <td>supportive</td>\n",
       "    </tr>\n",
       "    <tr>\n",
       "      <th>15</th>\n",
       "      <td>These shoes are poorly constructed and I don't expect them to last more that one summer.  Would not recommend, and will not order another Nike downshifter series again</td>\n",
       "      <td>2</td>\n",
       "      <td>(18, 19, 13, 20)</td>\n",
       "      <td>0.482130</td>\n",
       "      <td>0.8</td>\n",
       "      <td>358</td>\n",
       "      <td>supportive</td>\n",
       "    </tr>\n",
       "    <tr>\n",
       "      <th>14</th>\n",
       "      <td>Love it!! Super comfortable and nice!! Got more than I expected, super flexible great for training. Definetly recommend it.</td>\n",
       "      <td>5</td>\n",
       "      <td>(2, 12, 8, 7, 20)</td>\n",
       "      <td>0.723924</td>\n",
       "      <td>0.8</td>\n",
       "      <td>356</td>\n",
       "      <td>supportive</td>\n",
       "    </tr>\n",
       "    <tr>\n",
       "      <th>11</th>\n",
       "      <td>Perfect fit! Brand new in new box completely perfect condition and on sale!!! Awesome! Highly reccomend! Super cute shoes.</td>\n",
       "      <td>5</td>\n",
       "      <td>(1, 5, 5, 12, 20, 21)</td>\n",
       "      <td>0.731670</td>\n",
       "      <td>0.8</td>\n",
       "      <td>236</td>\n",
       "      <td>supportive</td>\n",
       "    </tr>\n",
       "    <tr>\n",
       "      <th>12</th>\n",
       "      <td>After using this shoes seven times for regular activities like walking or dancing the sole came out. I am very disappointed. I don't recommend this product at all. The worse part is that I can not return this item because the return window closed 4 days ago.</td>\n",
       "      <td>1</td>\n",
       "      <td>(0, 5, 20, 25)</td>\n",
       "      <td>0.346070</td>\n",
       "      <td>0.7</td>\n",
       "      <td>305</td>\n",
       "      <td>defeated</td>\n",
       "    </tr>\n",
       "    <tr>\n",
       "      <th>2</th>\n",
       "      <td>Straight out of the box, these shoes are great! Very lightweight and fits comfortably on my feet like a glove! I love most especially that the sole is not bulky like my previous running shoes  I hated those things lol! I would give them a shot and they are great for the price!</td>\n",
       "      <td>5</td>\n",
       "      <td>(9, 1, 6, 2, 0, 12, 2, 20)</td>\n",
       "      <td>0.657363</td>\n",
       "      <td>0.7</td>\n",
       "      <td>31</td>\n",
       "      <td>defeated</td>\n",
       "    </tr>\n",
       "    <tr>\n",
       "      <th>3</th>\n",
       "      <td>Glad I read the reviews and ordered a half size too big. These are light weight. I worked out in them last night and had a great work out. They are very comfortable. I would recommend these to anyone. I am a Beach Body Coach and these are now my new favorite shoes to work out in. I feel like I am walking in slippers when I wear these shoes. They are so comfortable. I LOVE them so much. I never buy myself anything nice and for Christmas got an Amazon gift card and used it to buy myself these sneakers and they are so awesome. I really do love them and have been telling all my friends about them. GET THESE SHOES!</td>\n",
       "      <td>5</td>\n",
       "      <td>(3, 5, 6, 0, 18, 4, 20, 0, 14, 0, 4, 2, 13, 2, 13, 2, 2, 9)</td>\n",
       "      <td>0.647361</td>\n",
       "      <td>0.7</td>\n",
       "      <td>60</td>\n",
       "      <td>defeated</td>\n",
       "    </tr>\n",
       "    <tr>\n",
       "      <th>6</th>\n",
       "      <td>I have pretty high arches and my calves always hurt at the gym with other shoes. I have been on the hunt for a good cross trainer that I can use to lift, take gym classes, and lightly jog/run on the treadmill. These have been wonderful! I don't ever have any pain in my calves or my feet when wearing these and they fit like a glove. Highly recommend!</td>\n",
       "      <td>5</td>\n",
       "      <td>(0, 14, 0, 2, 1, 0, 20)</td>\n",
       "      <td>0.672204</td>\n",
       "      <td>0.7</td>\n",
       "      <td>91</td>\n",
       "      <td>defeated</td>\n",
       "    </tr>\n",
       "    <tr>\n",
       "      <th>13</th>\n",
       "      <td>BEST. SHOES. EVER.  I bought two pairs in different colors- black n' white and the pink and white...  They have AWESOME support for whatever you use them for.. I have one for work and the other for training/running/etc in...</td>\n",
       "      <td>5</td>\n",
       "      <td>(12, 0, 20, 17, 22, 7)</td>\n",
       "      <td>0.649145</td>\n",
       "      <td>0.7</td>\n",
       "      <td>317</td>\n",
       "      <td>defeated</td>\n",
       "    </tr>\n",
       "    <tr>\n",
       "      <th>1</th>\n",
       "      <td>Great shoe. I've had Nike's before and have always been pleased with the comfort, performance, and quality. Though I will say this was the first time I ordered a pair online without trying them on first, so I was nervous. But this turned out to be a great choice. Breathable, lightweight but sturdy, and comfortable during all my workouts. The built-in arch support is great and I've had no discomfort after 2 weeks of use. As far as the sole thickness and cushioning goes, I would consider these a 'medium' build (not thin, not overly thick) so if you're into heavy running outdoors then take that into consideration. Everyone is different in their preference for cushioning, but I think for light runs on a treadmill they would be sufficient. Love these, highly recommend!</td>\n",
       "      <td>5</td>\n",
       "      <td>(21, 5, 13, 17, 5, 4, 8, 0, 22, 0, 7, 4, 20)</td>\n",
       "      <td>0.662977</td>\n",
       "      <td>0.7</td>\n",
       "      <td>20</td>\n",
       "      <td>defeated</td>\n",
       "    </tr>\n",
       "    <tr>\n",
       "      <th>9</th>\n",
       "      <td>Just because they are white, they do need a washing regularly but I have received many compliments on how pretty these white and pink shoes are. Extremely good Nike quality. Highly recommended.</td>\n",
       "      <td>5</td>\n",
       "      <td>(9, 4, 13, 20)</td>\n",
       "      <td>0.628218</td>\n",
       "      <td>0.7</td>\n",
       "      <td>172</td>\n",
       "      <td>defeated</td>\n",
       "    </tr>\n",
       "    <tr>\n",
       "      <th>10</th>\n",
       "      <td>I love these shoes. I am rather basic when it comes to Nikes, I don't need all the cool colors, so these look amazing and feel amazing, like they were made for my feet. I definitely suggest purchasing them.</td>\n",
       "      <td>5</td>\n",
       "      <td>(9, 13, 0, 6, 20)</td>\n",
       "      <td>0.646165</td>\n",
       "      <td>0.7</td>\n",
       "      <td>223</td>\n",
       "      <td>defeated</td>\n",
       "    </tr>\n",
       "    <tr>\n",
       "      <th>0</th>\n",
       "      <td>I recommend that!</td>\n",
       "      <td>5</td>\n",
       "      <td>(20,)</td>\n",
       "      <td>0.500000</td>\n",
       "      <td>0.0</td>\n",
       "      <td>5</td>\n",
       "      <td>defeated</td>\n",
       "    </tr>\n",
       "    <tr>\n",
       "      <th>7</th>\n",
       "      <td>I use these for my Cardio Dance class and they are perfect and very cute. I would definitely recommend. They also cam earlier than expected!!</td>\n",
       "      <td>5</td>\n",
       "      <td>(2, 7, 20, 5)</td>\n",
       "      <td>0.593825</td>\n",
       "      <td>0.0</td>\n",
       "      <td>148</td>\n",
       "      <td>defeated</td>\n",
       "    </tr>\n",
       "    <tr>\n",
       "      <th>5</th>\n",
       "      <td>Super light-weight, decent arch support (mine is higher than average).  I was pleasantly surprised by the sole/tread on these for my circuit training classes, as I couldn't really tell by online pics.  Also pleasantly surprised that these ran ever so slightly bigger than Nike running shoes I use to wear 15+years ago - I always wore one to 1.5 sizes larger in their \"Hurache's\"/running shoes, so I was really worried my size 6 would be too small - there is actually more toe room in these shoes than any other size 6 shoe I own (athletic, heel, boot).  But it is the correct amount of room from big toe to edge of shoe for me (an inch or less, I don't want my big toe being jammed into edge of shoe when lunging, jumping, etc.).  Shoes arrived with an odd yellowish color on side of one shoe, but no damage to box, paper lining etc - I was happy that a clorox wipe easily cleaned the shoe and did not discolor any further.  I am very happy and highly recommend, although I have only worked out it once!</td>\n",
       "      <td>5</td>\n",
       "      <td>(22, 0, 0, 10, 19, 19, 20)</td>\n",
       "      <td>0.569599</td>\n",
       "      <td>0.0</td>\n",
       "      <td>63</td>\n",
       "      <td>defeated</td>\n",
       "    </tr>\n",
       "    <tr>\n",
       "      <th>4</th>\n",
       "      <td>I love these, I had the previous iteration (or maybe two earlier?) and finally wore them out after several years. They are definitely a light-weight training shoe so I wouldn't get them if you are going to be doing a lot of running. But this also makes them extremely comfortable, I hadn't realized how hot running shoes made my feet until I switched to these. Good support and my feet stay cool all day, also noticeably light but well-made and long lasting.\\n\\nI have worn them hiking in a pinch but don't really recommend it because the material is mesh-like and will let a lot of dirt in. But if you mainly take cardio classes and/or do weight training or just need something to wear around town look no further.</td>\n",
       "      <td>5</td>\n",
       "      <td>(18, 17, 0, 0, 0, 22, 20, 18, 7)</td>\n",
       "      <td>0.610020</td>\n",
       "      <td>0.0</td>\n",
       "      <td>62</td>\n",
       "      <td>defeated</td>\n",
       "    </tr>\n",
       "    <tr>\n",
       "      <th>16</th>\n",
       "      <td>Favorite Nike shoe ever! The flex sole is excellent for someone like me who loves the free feeling of sandals or being barefoot. These move effortlessly with the bend of my foot. I've worn these for multiple activities and I've had no foot or ankle pain. The white/green/dark grey color goes with so many outfits and the mesh breathes perfectly on hot summer days. Highly recommend!</td>\n",
       "      <td>5</td>\n",
       "      <td>(9, 0, 0, 0, 18, 8, 15, 20)</td>\n",
       "      <td>0.597438</td>\n",
       "      <td>0.0</td>\n",
       "      <td>365</td>\n",
       "      <td>defeated</td>\n",
       "    </tr>\n",
       "  </tbody>\n",
       "</table>"
      ],
      "text/plain": [
       "<IPython.core.display.HTML object>"
      ]
     },
     "metadata": {},
     "output_type": "display_data"
    }
   ],
   "source": [
    "arg_selection, df_edges = analyze_a_topic(df_topics, df_arguments_processed)"
   ]
  },
  {
   "cell_type": "markdown",
   "metadata": {},
   "source": [
    "## 5. Visualize review labels\n",
    "\n",
    "The attacking network of the reviews are visualized as below for better understanding the output."
   ]
  },
  {
   "cell_type": "code",
   "execution_count": 59,
   "metadata": {
    "jupyter": {
     "source_hidden": true
    }
   },
   "outputs": [],
   "source": [
    "def summarize_edges(df_edges):\n",
    "    return [ [ int(row[\"source\"]), int(row[\"target\"]), row[\"weight\"] ]\n",
    "             for index, row in df_edges.iterrows() if row[\"source\"] not in list(df_edges[\"target\"]) ]"
   ]
  },
  {
   "cell_type": "code",
   "execution_count": 60,
   "metadata": {
    "jupyter": {
     "source_hidden": true
    }
   },
   "outputs": [],
   "source": [
    "def draw_graph(arg_selection, df_edges):\n",
    "    DG = nx.DiGraph()\n",
    "    DG.add_nodes_from(list(arg_selection.index))\n",
    "    DG.add_edges_from([ [ source, target ] for source, target, weight in summarize_edges(df_edges) ])\n",
    "    # graph layout\n",
    "    pos = nx.shell_layout(DG)\n",
    "\n",
    "    # draw nodes\n",
    "    reliable_indices = arg_selection[arg_selection[\"labels\"] == \"supportive\"].index.tolist()\n",
    "    unreliable_indices = arg_selection[arg_selection[\"labels\"] == \"defeated\"].index.tolist()\n",
    "    nx.draw_networkx_nodes(DG, pos, nodelist=reliable_indices, node_color=\"tab:green\")\n",
    "    nx.draw_networkx_nodes(DG, pos, nodelist=unreliable_indices, node_color=\"tab:red\")\n",
    "\n",
    "    # draw edges\n",
    "    nx.draw_networkx_edges(DG, pos, width=[ 3 * weight for source, target, weight in summarize_edges(df_edges) ])\n",
    "\n",
    "    # draw labels\n",
    "    labels = {i: i for i in arg_selection.index}\n",
    "    nx.draw_networkx_labels(DG, pos, labels, font_size=9, font_color=\"whitesmoke\")\n",
    "\n",
    "    plt.show()"
   ]
  },
  {
   "cell_type": "code",
   "execution_count": 61,
   "metadata": {},
   "outputs": [
    {
     "data": {
      "image/png": "[encoded data removed]",
      "text/plain": [
       "<Figure size 640x480 with 1 Axes>"
      ]
     },
     "metadata": {},
     "output_type": "display_data"
    }
   ],
   "source": [
    "arg_selection, df_edges = analyze_a_topic(df_topics, df_arguments_processed, show_data=False)\n",
    "draw_graph(arg_selection, df_edges)"
   ]
  },
  {
   "cell_type": "markdown",
   "metadata": {},
   "source": [
    "The plot shows that review #8, #11, #14 and #15 are supportive, while the others are defeated. In the `arg_selection` table these four reviews indeed had the highest level of consistence. Interestingly the score of #15 (negative) disagrees with those of #8, #11 and #14 (positive). The three nodes attack and defeat the single negative node with a lower coherence (#12) while #15 does the same with all positive nodes with a lower coherence. There are no nodes with a neutral score in this topic. "
   ]
  },
  {
   "cell_type": "code",
   "execution_count": null,
   "metadata": {},
   "outputs": [],
   "source": []
  }
 ],
 "metadata": {
  "kernelspec": {
   "display_name": "Python 3 (ipykernel)",
   "language": "python",
   "name": "python3"
  },
  "language_info": {
   "codemirror_mode": {
    "name": "ipython",
    "version": 3
   },
   "file_extension": ".py",
   "mimetype": "text/x-python",
   "name": "python",
   "nbconvert_exporter": "python",
   "pygments_lexer": "ipython3",
   "version": "3.9.13"
  }
 },
 "nbformat": 4,
 "nbformat_minor": 4
}
